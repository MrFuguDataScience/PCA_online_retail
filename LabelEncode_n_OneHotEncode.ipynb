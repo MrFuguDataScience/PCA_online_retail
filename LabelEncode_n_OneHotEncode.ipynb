{
 "cells": [
  {
   "cell_type": "markdown",
   "metadata": {},
   "source": [
    "# R-Studio: `Label Encoding` Categorical Data\n",
    "\n",
    "**<font color=red>Mr Fugu Data Science</font>**\n",
    "\n",
    "\n",
    "# (◕‿◕✿)\n",
    "\n",
    "[Github](https://github.com/MrFuguDataScience)\n",
    "[Youtube](https://www.youtube.com/channel/UCbni-TDI-Ub8VlGaP8HLTNw?view_as=subscriber)\n",
    "\n",
    "# Purpose & Outcome:\n",
    "\n",
    "+ `Label Encoding`: 2 Examples\n",
    "    + `One Hot Encoding`: Multiple Examples\n",
    "+ `Explain Issues that can occur with BOTH`, for analysis later!\n"
   ]
  },
  {
   "cell_type": "code",
   "execution_count": null,
   "metadata": {},
   "outputs": [],
   "source": [
    "# install.packages('dummies')\n",
    "# install.packages('CatEncoders')"
   ]
  },
  {
   "cell_type": "code",
   "execution_count": 1,
   "metadata": {},
   "outputs": [
    {
     "name": "stderr",
     "output_type": "stream",
     "text": [
      "── \u001b[1mAttaching packages\u001b[22m ─────────────────────────────────────── tidyverse 1.3.0 ──\n",
      "\n",
      "\u001b[32m✔\u001b[39m \u001b[34mggplot2\u001b[39m 3.3.2     \u001b[32m✔\u001b[39m \u001b[34mpurrr  \u001b[39m 0.3.4\n",
      "\u001b[32m✔\u001b[39m \u001b[34mtibble \u001b[39m 3.0.1     \u001b[32m✔\u001b[39m \u001b[34mdplyr  \u001b[39m 1.0.0\n",
      "\u001b[32m✔\u001b[39m \u001b[34mtidyr  \u001b[39m 1.1.0     \u001b[32m✔\u001b[39m \u001b[34mstringr\u001b[39m 1.4.0\n",
      "\u001b[32m✔\u001b[39m \u001b[34mreadr  \u001b[39m 1.3.1     \u001b[32m✔\u001b[39m \u001b[34mforcats\u001b[39m 0.5.0\n",
      "\n",
      "── \u001b[1mConflicts\u001b[22m ────────────────────────────────────────── tidyverse_conflicts() ──\n",
      "\u001b[31m✖\u001b[39m \u001b[34mdplyr\u001b[39m::\u001b[32mfilter()\u001b[39m masks \u001b[34mstats\u001b[39m::filter()\n",
      "\u001b[31m✖\u001b[39m \u001b[34mdplyr\u001b[39m::\u001b[32mlag()\u001b[39m    masks \u001b[34mstats\u001b[39m::lag()\n",
      "\n"
     ]
    }
   ],
   "source": [
    "library(rmarkdown)\n",
    "library(knitr)\n",
    "library(tidyverse) # Ability to use dplyr methods/fcns\n",
    "library(dummies) # Create Dummy variables for OneHot\n",
    "\n",
    "libary(Matrix) # Create Sparse Matrix\n",
    "library(CatEncoders) # Label & OneHot"
   ]
  },
  {
   "cell_type": "code",
   "execution_count": 2,
   "metadata": {},
   "outputs": [],
   "source": [
    "onlineretail<-read.csv(\"online_sales.csv\")"
   ]
  },
  {
   "cell_type": "code",
   "execution_count": 3,
   "metadata": {},
   "outputs": [
    {
     "data": {
      "text/html": [
       "<table>\n",
       "<caption>A data.frame: 6 × 8</caption>\n",
       "<thead>\n",
       "\t<tr><th></th><th scope=col>InvoiceNo</th><th scope=col>StockCode</th><th scope=col>Description</th><th scope=col>Quantity</th><th scope=col>InvoiceDate</th><th scope=col>UnitPrice</th><th scope=col>CustomerID</th><th scope=col>Country</th></tr>\n",
       "\t<tr><th></th><th scope=col>&lt;chr&gt;</th><th scope=col>&lt;chr&gt;</th><th scope=col>&lt;chr&gt;</th><th scope=col>&lt;int&gt;</th><th scope=col>&lt;chr&gt;</th><th scope=col>&lt;dbl&gt;</th><th scope=col>&lt;int&gt;</th><th scope=col>&lt;chr&gt;</th></tr>\n",
       "</thead>\n",
       "<tbody>\n",
       "\t<tr><th scope=row>1</th><td>536365</td><td>85123A</td><td>WHITE HANGING HEART T-LIGHT HOLDER </td><td>6</td><td>12/1/2010 8:26</td><td>2.55</td><td>17850</td><td>United Kingdom</td></tr>\n",
       "\t<tr><th scope=row>2</th><td>536365</td><td>71053 </td><td>WHITE METAL LANTERN                </td><td>6</td><td>12/1/2010 8:26</td><td>3.39</td><td>17850</td><td>United Kingdom</td></tr>\n",
       "\t<tr><th scope=row>3</th><td>536365</td><td>84406B</td><td>CREAM CUPID HEARTS COAT HANGER     </td><td>8</td><td>12/1/2010 8:26</td><td>2.75</td><td>17850</td><td>United Kingdom</td></tr>\n",
       "\t<tr><th scope=row>4</th><td>536365</td><td>84029G</td><td>KNITTED UNION FLAG HOT WATER BOTTLE</td><td>6</td><td>12/1/2010 8:26</td><td>3.39</td><td>17850</td><td>United Kingdom</td></tr>\n",
       "\t<tr><th scope=row>5</th><td>536365</td><td>84029E</td><td>RED WOOLLY HOTTIE WHITE HEART.     </td><td>6</td><td>12/1/2010 8:26</td><td>3.39</td><td>17850</td><td>United Kingdom</td></tr>\n",
       "\t<tr><th scope=row>6</th><td>536365</td><td>22752 </td><td>SET 7 BABUSHKA NESTING BOXES       </td><td>2</td><td>12/1/2010 8:26</td><td>7.65</td><td>17850</td><td>United Kingdom</td></tr>\n",
       "</tbody>\n",
       "</table>\n"
      ],
      "text/latex": [
       "A data.frame: 6 × 8\n",
       "\\begin{tabular}{r|llllllll}\n",
       "  & InvoiceNo & StockCode & Description & Quantity & InvoiceDate & UnitPrice & CustomerID & Country\\\\\n",
       "  & <chr> & <chr> & <chr> & <int> & <chr> & <dbl> & <int> & <chr>\\\\\n",
       "\\hline\n",
       "\t1 & 536365 & 85123A & WHITE HANGING HEART T-LIGHT HOLDER  & 6 & 12/1/2010 8:26 & 2.55 & 17850 & United Kingdom\\\\\n",
       "\t2 & 536365 & 71053  & WHITE METAL LANTERN                 & 6 & 12/1/2010 8:26 & 3.39 & 17850 & United Kingdom\\\\\n",
       "\t3 & 536365 & 84406B & CREAM CUPID HEARTS COAT HANGER      & 8 & 12/1/2010 8:26 & 2.75 & 17850 & United Kingdom\\\\\n",
       "\t4 & 536365 & 84029G & KNITTED UNION FLAG HOT WATER BOTTLE & 6 & 12/1/2010 8:26 & 3.39 & 17850 & United Kingdom\\\\\n",
       "\t5 & 536365 & 84029E & RED WOOLLY HOTTIE WHITE HEART.      & 6 & 12/1/2010 8:26 & 3.39 & 17850 & United Kingdom\\\\\n",
       "\t6 & 536365 & 22752  & SET 7 BABUSHKA NESTING BOXES        & 2 & 12/1/2010 8:26 & 7.65 & 17850 & United Kingdom\\\\\n",
       "\\end{tabular}\n"
      ],
      "text/markdown": [
       "\n",
       "A data.frame: 6 × 8\n",
       "\n",
       "| <!--/--> | InvoiceNo &lt;chr&gt; | StockCode &lt;chr&gt; | Description &lt;chr&gt; | Quantity &lt;int&gt; | InvoiceDate &lt;chr&gt; | UnitPrice &lt;dbl&gt; | CustomerID &lt;int&gt; | Country &lt;chr&gt; |\n",
       "|---|---|---|---|---|---|---|---|---|\n",
       "| 1 | 536365 | 85123A | WHITE HANGING HEART T-LIGHT HOLDER  | 6 | 12/1/2010 8:26 | 2.55 | 17850 | United Kingdom |\n",
       "| 2 | 536365 | 71053  | WHITE METAL LANTERN                 | 6 | 12/1/2010 8:26 | 3.39 | 17850 | United Kingdom |\n",
       "| 3 | 536365 | 84406B | CREAM CUPID HEARTS COAT HANGER      | 8 | 12/1/2010 8:26 | 2.75 | 17850 | United Kingdom |\n",
       "| 4 | 536365 | 84029G | KNITTED UNION FLAG HOT WATER BOTTLE | 6 | 12/1/2010 8:26 | 3.39 | 17850 | United Kingdom |\n",
       "| 5 | 536365 | 84029E | RED WOOLLY HOTTIE WHITE HEART.      | 6 | 12/1/2010 8:26 | 3.39 | 17850 | United Kingdom |\n",
       "| 6 | 536365 | 22752  | SET 7 BABUSHKA NESTING BOXES        | 2 | 12/1/2010 8:26 | 7.65 | 17850 | United Kingdom |\n",
       "\n"
      ],
      "text/plain": [
       "  InvoiceNo StockCode Description                         Quantity\n",
       "1 536365    85123A    WHITE HANGING HEART T-LIGHT HOLDER  6       \n",
       "2 536365    71053     WHITE METAL LANTERN                 6       \n",
       "3 536365    84406B    CREAM CUPID HEARTS COAT HANGER      8       \n",
       "4 536365    84029G    KNITTED UNION FLAG HOT WATER BOTTLE 6       \n",
       "5 536365    84029E    RED WOOLLY HOTTIE WHITE HEART.      6       \n",
       "6 536365    22752     SET 7 BABUSHKA NESTING BOXES        2       \n",
       "  InvoiceDate    UnitPrice CustomerID Country       \n",
       "1 12/1/2010 8:26 2.55      17850      United Kingdom\n",
       "2 12/1/2010 8:26 3.39      17850      United Kingdom\n",
       "3 12/1/2010 8:26 2.75      17850      United Kingdom\n",
       "4 12/1/2010 8:26 3.39      17850      United Kingdom\n",
       "5 12/1/2010 8:26 3.39      17850      United Kingdom\n",
       "6 12/1/2010 8:26 7.65      17850      United Kingdom"
      ]
     },
     "metadata": {},
     "output_type": "display_data"
    }
   ],
   "source": [
    "head(onlineretail)"
   ]
  },
  {
   "cell_type": "code",
   "execution_count": 7,
   "metadata": {},
   "outputs": [
    {
     "data": {
      "text/html": [
       "<table>\n",
       "<caption>A data.frame: 6 × 8</caption>\n",
       "<thead>\n",
       "\t<tr><th></th><th scope=col>InvoiceNo</th><th scope=col>StockCode</th><th scope=col>Description</th><th scope=col>Quantity</th><th scope=col>InvoiceDate</th><th scope=col>UnitPrice</th><th scope=col>CustomerID</th><th scope=col>Country</th></tr>\n",
       "\t<tr><th></th><th scope=col>&lt;chr&gt;</th><th scope=col>&lt;chr&gt;</th><th scope=col>&lt;chr&gt;</th><th scope=col>&lt;int&gt;</th><th scope=col>&lt;chr&gt;</th><th scope=col>&lt;dbl&gt;</th><th scope=col>&lt;int&gt;</th><th scope=col>&lt;chr&gt;</th></tr>\n",
       "</thead>\n",
       "<tbody>\n",
       "\t<tr><th scope=row>1</th><td>536365</td><td>85123A</td><td>WHITE HANGING HEART T-LIGHT HOLDER </td><td>6</td><td>12/1/2010 8:26</td><td>2.55</td><td>17850</td><td>United Kingdom</td></tr>\n",
       "\t<tr><th scope=row>2</th><td>536365</td><td>71053 </td><td>WHITE METAL LANTERN                </td><td>6</td><td>12/1/2010 8:26</td><td>3.39</td><td>17850</td><td>United Kingdom</td></tr>\n",
       "\t<tr><th scope=row>3</th><td>536365</td><td>84406B</td><td>CREAM CUPID HEARTS COAT HANGER     </td><td>8</td><td>12/1/2010 8:26</td><td>2.75</td><td>17850</td><td>United Kingdom</td></tr>\n",
       "\t<tr><th scope=row>4</th><td>536365</td><td>84029G</td><td>KNITTED UNION FLAG HOT WATER BOTTLE</td><td>6</td><td>12/1/2010 8:26</td><td>3.39</td><td>17850</td><td>United Kingdom</td></tr>\n",
       "\t<tr><th scope=row>5</th><td>536365</td><td>84029E</td><td>RED WOOLLY HOTTIE WHITE HEART.     </td><td>6</td><td>12/1/2010 8:26</td><td>3.39</td><td>17850</td><td>United Kingdom</td></tr>\n",
       "\t<tr><th scope=row>6</th><td>536365</td><td>22752 </td><td>SET 7 BABUSHKA NESTING BOXES       </td><td>2</td><td>12/1/2010 8:26</td><td>7.65</td><td>17850</td><td>United Kingdom</td></tr>\n",
       "</tbody>\n",
       "</table>\n"
      ],
      "text/latex": [
       "A data.frame: 6 × 8\n",
       "\\begin{tabular}{r|llllllll}\n",
       "  & InvoiceNo & StockCode & Description & Quantity & InvoiceDate & UnitPrice & CustomerID & Country\\\\\n",
       "  & <chr> & <chr> & <chr> & <int> & <chr> & <dbl> & <int> & <chr>\\\\\n",
       "\\hline\n",
       "\t1 & 536365 & 85123A & WHITE HANGING HEART T-LIGHT HOLDER  & 6 & 12/1/2010 8:26 & 2.55 & 17850 & United Kingdom\\\\\n",
       "\t2 & 536365 & 71053  & WHITE METAL LANTERN                 & 6 & 12/1/2010 8:26 & 3.39 & 17850 & United Kingdom\\\\\n",
       "\t3 & 536365 & 84406B & CREAM CUPID HEARTS COAT HANGER      & 8 & 12/1/2010 8:26 & 2.75 & 17850 & United Kingdom\\\\\n",
       "\t4 & 536365 & 84029G & KNITTED UNION FLAG HOT WATER BOTTLE & 6 & 12/1/2010 8:26 & 3.39 & 17850 & United Kingdom\\\\\n",
       "\t5 & 536365 & 84029E & RED WOOLLY HOTTIE WHITE HEART.      & 6 & 12/1/2010 8:26 & 3.39 & 17850 & United Kingdom\\\\\n",
       "\t6 & 536365 & 22752  & SET 7 BABUSHKA NESTING BOXES        & 2 & 12/1/2010 8:26 & 7.65 & 17850 & United Kingdom\\\\\n",
       "\\end{tabular}\n"
      ],
      "text/markdown": [
       "\n",
       "A data.frame: 6 × 8\n",
       "\n",
       "| <!--/--> | InvoiceNo &lt;chr&gt; | StockCode &lt;chr&gt; | Description &lt;chr&gt; | Quantity &lt;int&gt; | InvoiceDate &lt;chr&gt; | UnitPrice &lt;dbl&gt; | CustomerID &lt;int&gt; | Country &lt;chr&gt; |\n",
       "|---|---|---|---|---|---|---|---|---|\n",
       "| 1 | 536365 | 85123A | WHITE HANGING HEART T-LIGHT HOLDER  | 6 | 12/1/2010 8:26 | 2.55 | 17850 | United Kingdom |\n",
       "| 2 | 536365 | 71053  | WHITE METAL LANTERN                 | 6 | 12/1/2010 8:26 | 3.39 | 17850 | United Kingdom |\n",
       "| 3 | 536365 | 84406B | CREAM CUPID HEARTS COAT HANGER      | 8 | 12/1/2010 8:26 | 2.75 | 17850 | United Kingdom |\n",
       "| 4 | 536365 | 84029G | KNITTED UNION FLAG HOT WATER BOTTLE | 6 | 12/1/2010 8:26 | 3.39 | 17850 | United Kingdom |\n",
       "| 5 | 536365 | 84029E | RED WOOLLY HOTTIE WHITE HEART.      | 6 | 12/1/2010 8:26 | 3.39 | 17850 | United Kingdom |\n",
       "| 6 | 536365 | 22752  | SET 7 BABUSHKA NESTING BOXES        | 2 | 12/1/2010 8:26 | 7.65 | 17850 | United Kingdom |\n",
       "\n"
      ],
      "text/plain": [
       "  InvoiceNo StockCode Description                         Quantity\n",
       "1 536365    85123A    WHITE HANGING HEART T-LIGHT HOLDER  6       \n",
       "2 536365    71053     WHITE METAL LANTERN                 6       \n",
       "3 536365    84406B    CREAM CUPID HEARTS COAT HANGER      8       \n",
       "4 536365    84029G    KNITTED UNION FLAG HOT WATER BOTTLE 6       \n",
       "5 536365    84029E    RED WOOLLY HOTTIE WHITE HEART.      6       \n",
       "6 536365    22752     SET 7 BABUSHKA NESTING BOXES        2       \n",
       "  InvoiceDate    UnitPrice CustomerID Country       \n",
       "1 12/1/2010 8:26 2.55      17850      United Kingdom\n",
       "2 12/1/2010 8:26 3.39      17850      United Kingdom\n",
       "3 12/1/2010 8:26 2.75      17850      United Kingdom\n",
       "4 12/1/2010 8:26 3.39      17850      United Kingdom\n",
       "5 12/1/2010 8:26 3.39      17850      United Kingdom\n",
       "6 12/1/2010 8:26 7.65      17850      United Kingdom"
      ]
     },
     "metadata": {},
     "output_type": "display_data"
    }
   ],
   "source": [
    "# Removing Duplicate Rows: \n",
    "online_retail_am <- onlineretail %>% distinct()\n",
    "head(online_retail_am)"
   ]
  },
  {
   "cell_type": "code",
   "execution_count": 8,
   "metadata": {},
   "outputs": [
    {
     "data": {
      "text/html": [
       "<table>\n",
       "<caption>A data.frame: 6 × 8</caption>\n",
       "<thead>\n",
       "\t<tr><th></th><th scope=col>InvoiceNo</th><th scope=col>StockCode</th><th scope=col>Description</th><th scope=col>Quantity</th><th scope=col>InvoiceDate</th><th scope=col>UnitPrice</th><th scope=col>CustomerID</th><th scope=col>Country</th></tr>\n",
       "\t<tr><th></th><th scope=col>&lt;chr&gt;</th><th scope=col>&lt;chr&gt;</th><th scope=col>&lt;chr&gt;</th><th scope=col>&lt;int&gt;</th><th scope=col>&lt;chr&gt;</th><th scope=col>&lt;dbl&gt;</th><th scope=col>&lt;int&gt;</th><th scope=col>&lt;chr&gt;</th></tr>\n",
       "</thead>\n",
       "<tbody>\n",
       "\t<tr><th scope=row>1</th><td>536365</td><td>85123A</td><td>WHITE HANGING HEART T-LIGHT HOLDER </td><td>6</td><td>12/1/2010 8:26</td><td>2.55</td><td>17850</td><td>United Kingdom</td></tr>\n",
       "\t<tr><th scope=row>2</th><td>536365</td><td>71053 </td><td>WHITE METAL LANTERN                </td><td>6</td><td>12/1/2010 8:26</td><td>3.39</td><td>17850</td><td>United Kingdom</td></tr>\n",
       "\t<tr><th scope=row>3</th><td>536365</td><td>84406B</td><td>CREAM CUPID HEARTS COAT HANGER     </td><td>8</td><td>12/1/2010 8:26</td><td>2.75</td><td>17850</td><td>United Kingdom</td></tr>\n",
       "\t<tr><th scope=row>4</th><td>536365</td><td>84029G</td><td>KNITTED UNION FLAG HOT WATER BOTTLE</td><td>6</td><td>12/1/2010 8:26</td><td>3.39</td><td>17850</td><td>United Kingdom</td></tr>\n",
       "\t<tr><th scope=row>5</th><td>536365</td><td>84029E</td><td>RED WOOLLY HOTTIE WHITE HEART.     </td><td>6</td><td>12/1/2010 8:26</td><td>3.39</td><td>17850</td><td>United Kingdom</td></tr>\n",
       "\t<tr><th scope=row>6</th><td>536365</td><td>22752 </td><td>SET 7 BABUSHKA NESTING BOXES       </td><td>2</td><td>12/1/2010 8:26</td><td>7.65</td><td>17850</td><td>United Kingdom</td></tr>\n",
       "</tbody>\n",
       "</table>\n"
      ],
      "text/latex": [
       "A data.frame: 6 × 8\n",
       "\\begin{tabular}{r|llllllll}\n",
       "  & InvoiceNo & StockCode & Description & Quantity & InvoiceDate & UnitPrice & CustomerID & Country\\\\\n",
       "  & <chr> & <chr> & <chr> & <int> & <chr> & <dbl> & <int> & <chr>\\\\\n",
       "\\hline\n",
       "\t1 & 536365 & 85123A & WHITE HANGING HEART T-LIGHT HOLDER  & 6 & 12/1/2010 8:26 & 2.55 & 17850 & United Kingdom\\\\\n",
       "\t2 & 536365 & 71053  & WHITE METAL LANTERN                 & 6 & 12/1/2010 8:26 & 3.39 & 17850 & United Kingdom\\\\\n",
       "\t3 & 536365 & 84406B & CREAM CUPID HEARTS COAT HANGER      & 8 & 12/1/2010 8:26 & 2.75 & 17850 & United Kingdom\\\\\n",
       "\t4 & 536365 & 84029G & KNITTED UNION FLAG HOT WATER BOTTLE & 6 & 12/1/2010 8:26 & 3.39 & 17850 & United Kingdom\\\\\n",
       "\t5 & 536365 & 84029E & RED WOOLLY HOTTIE WHITE HEART.      & 6 & 12/1/2010 8:26 & 3.39 & 17850 & United Kingdom\\\\\n",
       "\t6 & 536365 & 22752  & SET 7 BABUSHKA NESTING BOXES        & 2 & 12/1/2010 8:26 & 7.65 & 17850 & United Kingdom\\\\\n",
       "\\end{tabular}\n"
      ],
      "text/markdown": [
       "\n",
       "A data.frame: 6 × 8\n",
       "\n",
       "| <!--/--> | InvoiceNo &lt;chr&gt; | StockCode &lt;chr&gt; | Description &lt;chr&gt; | Quantity &lt;int&gt; | InvoiceDate &lt;chr&gt; | UnitPrice &lt;dbl&gt; | CustomerID &lt;int&gt; | Country &lt;chr&gt; |\n",
       "|---|---|---|---|---|---|---|---|---|\n",
       "| 1 | 536365 | 85123A | WHITE HANGING HEART T-LIGHT HOLDER  | 6 | 12/1/2010 8:26 | 2.55 | 17850 | United Kingdom |\n",
       "| 2 | 536365 | 71053  | WHITE METAL LANTERN                 | 6 | 12/1/2010 8:26 | 3.39 | 17850 | United Kingdom |\n",
       "| 3 | 536365 | 84406B | CREAM CUPID HEARTS COAT HANGER      | 8 | 12/1/2010 8:26 | 2.75 | 17850 | United Kingdom |\n",
       "| 4 | 536365 | 84029G | KNITTED UNION FLAG HOT WATER BOTTLE | 6 | 12/1/2010 8:26 | 3.39 | 17850 | United Kingdom |\n",
       "| 5 | 536365 | 84029E | RED WOOLLY HOTTIE WHITE HEART.      | 6 | 12/1/2010 8:26 | 3.39 | 17850 | United Kingdom |\n",
       "| 6 | 536365 | 22752  | SET 7 BABUSHKA NESTING BOXES        | 2 | 12/1/2010 8:26 | 7.65 | 17850 | United Kingdom |\n",
       "\n"
      ],
      "text/plain": [
       "  InvoiceNo StockCode Description                         Quantity\n",
       "1 536365    85123A    WHITE HANGING HEART T-LIGHT HOLDER  6       \n",
       "2 536365    71053     WHITE METAL LANTERN                 6       \n",
       "3 536365    84406B    CREAM CUPID HEARTS COAT HANGER      8       \n",
       "4 536365    84029G    KNITTED UNION FLAG HOT WATER BOTTLE 6       \n",
       "5 536365    84029E    RED WOOLLY HOTTIE WHITE HEART.      6       \n",
       "6 536365    22752     SET 7 BABUSHKA NESTING BOXES        2       \n",
       "  InvoiceDate    UnitPrice CustomerID Country       \n",
       "1 12/1/2010 8:26 2.55      17850      United Kingdom\n",
       "2 12/1/2010 8:26 3.39      17850      United Kingdom\n",
       "3 12/1/2010 8:26 2.75      17850      United Kingdom\n",
       "4 12/1/2010 8:26 3.39      17850      United Kingdom\n",
       "5 12/1/2010 8:26 3.39      17850      United Kingdom\n",
       "6 12/1/2010 8:26 7.65      17850      United Kingdom"
      ]
     },
     "metadata": {},
     "output_type": "display_data"
    }
   ],
   "source": [
    "# remove_na\n",
    "\n",
    "remove_na<-na.omit(online_retail_am)\n",
    "head(remove_na)"
   ]
  },
  {
   "cell_type": "code",
   "execution_count": 9,
   "metadata": {},
   "outputs": [
    {
     "data": {
      "text/html": [
       "<table>\n",
       "<caption>A data.frame: 6 × 8</caption>\n",
       "<thead>\n",
       "\t<tr><th></th><th scope=col>InvoiceNo</th><th scope=col>StockCode</th><th scope=col>Description</th><th scope=col>Quantity</th><th scope=col>InvoiceDate</th><th scope=col>UnitPrice</th><th scope=col>CustomerID</th><th scope=col>Country</th></tr>\n",
       "\t<tr><th></th><th scope=col>&lt;chr&gt;</th><th scope=col>&lt;chr&gt;</th><th scope=col>&lt;chr&gt;</th><th scope=col>&lt;int&gt;</th><th scope=col>&lt;chr&gt;</th><th scope=col>&lt;dbl&gt;</th><th scope=col>&lt;int&gt;</th><th scope=col>&lt;chr&gt;</th></tr>\n",
       "</thead>\n",
       "<tbody>\n",
       "\t<tr><th scope=row>267920</th><td>C560540</td><td>22150</td><td>3 STRIPEY MICE FELTCRAFT           </td><td>-1</td><td>7/19/2011 12:26</td><td>1.95</td><td>12415</td><td>Australia</td></tr>\n",
       "\t<tr><th scope=row>267931</th><td>C560540</td><td>20979</td><td>36 PENCILS TUBE RED RETROSPOT      </td><td>-1</td><td>7/19/2011 12:26</td><td>1.25</td><td>12415</td><td>Australia</td></tr>\n",
       "\t<tr><th scope=row>267922</th><td>C560540</td><td>22138</td><td>BAKING SET 9 PIECE RETROSPOT       </td><td>-1</td><td>7/19/2011 12:26</td><td>4.95</td><td>12415</td><td>Australia</td></tr>\n",
       "\t<tr><th scope=row>267906</th><td>C560540</td><td>23192</td><td>BUNDLE OF 3 ALPHABET EXERCISE BOOKS</td><td>-1</td><td>7/19/2011 12:26</td><td>1.65</td><td>12415</td><td>Australia</td></tr>\n",
       "\t<tr><th scope=row>267907</th><td>C560540</td><td>23190</td><td>BUNDLE OF 3 SCHOOL EXERCISE BOOKS  </td><td>-1</td><td>7/19/2011 12:26</td><td>1.65</td><td>12415</td><td>Australia</td></tr>\n",
       "\t<tr><th scope=row>267915</th><td>C560540</td><td>22973</td><td>CHILDREN'S CIRCUS PARADE MUG       </td><td>-1</td><td>7/19/2011 12:26</td><td>1.65</td><td>12415</td><td>Australia</td></tr>\n",
       "</tbody>\n",
       "</table>\n"
      ],
      "text/latex": [
       "A data.frame: 6 × 8\n",
       "\\begin{tabular}{r|llllllll}\n",
       "  & InvoiceNo & StockCode & Description & Quantity & InvoiceDate & UnitPrice & CustomerID & Country\\\\\n",
       "  & <chr> & <chr> & <chr> & <int> & <chr> & <dbl> & <int> & <chr>\\\\\n",
       "\\hline\n",
       "\t267920 & C560540 & 22150 & 3 STRIPEY MICE FELTCRAFT            & -1 & 7/19/2011 12:26 & 1.95 & 12415 & Australia\\\\\n",
       "\t267931 & C560540 & 20979 & 36 PENCILS TUBE RED RETROSPOT       & -1 & 7/19/2011 12:26 & 1.25 & 12415 & Australia\\\\\n",
       "\t267922 & C560540 & 22138 & BAKING SET 9 PIECE RETROSPOT        & -1 & 7/19/2011 12:26 & 4.95 & 12415 & Australia\\\\\n",
       "\t267906 & C560540 & 23192 & BUNDLE OF 3 ALPHABET EXERCISE BOOKS & -1 & 7/19/2011 12:26 & 1.65 & 12415 & Australia\\\\\n",
       "\t267907 & C560540 & 23190 & BUNDLE OF 3 SCHOOL EXERCISE BOOKS   & -1 & 7/19/2011 12:26 & 1.65 & 12415 & Australia\\\\\n",
       "\t267915 & C560540 & 22973 & CHILDREN'S CIRCUS PARADE MUG        & -1 & 7/19/2011 12:26 & 1.65 & 12415 & Australia\\\\\n",
       "\\end{tabular}\n"
      ],
      "text/markdown": [
       "\n",
       "A data.frame: 6 × 8\n",
       "\n",
       "| <!--/--> | InvoiceNo &lt;chr&gt; | StockCode &lt;chr&gt; | Description &lt;chr&gt; | Quantity &lt;int&gt; | InvoiceDate &lt;chr&gt; | UnitPrice &lt;dbl&gt; | CustomerID &lt;int&gt; | Country &lt;chr&gt; |\n",
       "|---|---|---|---|---|---|---|---|---|\n",
       "| 267920 | C560540 | 22150 | 3 STRIPEY MICE FELTCRAFT            | -1 | 7/19/2011 12:26 | 1.95 | 12415 | Australia |\n",
       "| 267931 | C560540 | 20979 | 36 PENCILS TUBE RED RETROSPOT       | -1 | 7/19/2011 12:26 | 1.25 | 12415 | Australia |\n",
       "| 267922 | C560540 | 22138 | BAKING SET 9 PIECE RETROSPOT        | -1 | 7/19/2011 12:26 | 4.95 | 12415 | Australia |\n",
       "| 267906 | C560540 | 23192 | BUNDLE OF 3 ALPHABET EXERCISE BOOKS | -1 | 7/19/2011 12:26 | 1.65 | 12415 | Australia |\n",
       "| 267907 | C560540 | 23190 | BUNDLE OF 3 SCHOOL EXERCISE BOOKS   | -1 | 7/19/2011 12:26 | 1.65 | 12415 | Australia |\n",
       "| 267915 | C560540 | 22973 | CHILDREN'S CIRCUS PARADE MUG        | -1 | 7/19/2011 12:26 | 1.65 | 12415 | Australia |\n",
       "\n"
      ],
      "text/plain": [
       "       InvoiceNo StockCode Description                         Quantity\n",
       "267920 C560540   22150     3 STRIPEY MICE FELTCRAFT            -1      \n",
       "267931 C560540   20979     36 PENCILS TUBE RED RETROSPOT       -1      \n",
       "267922 C560540   22138     BAKING SET 9 PIECE RETROSPOT        -1      \n",
       "267906 C560540   23192     BUNDLE OF 3 ALPHABET EXERCISE BOOKS -1      \n",
       "267907 C560540   23190     BUNDLE OF 3 SCHOOL EXERCISE BOOKS   -1      \n",
       "267915 C560540   22973     CHILDREN'S CIRCUS PARADE MUG        -1      \n",
       "       InvoiceDate     UnitPrice CustomerID Country  \n",
       "267920 7/19/2011 12:26 1.95      12415      Australia\n",
       "267931 7/19/2011 12:26 1.25      12415      Australia\n",
       "267922 7/19/2011 12:26 4.95      12415      Australia\n",
       "267906 7/19/2011 12:26 1.65      12415      Australia\n",
       "267907 7/19/2011 12:26 1.65      12415      Australia\n",
       "267915 7/19/2011 12:26 1.65      12415      Australia"
      ]
     },
     "metadata": {},
     "output_type": "display_data"
    }
   ],
   "source": [
    "# Canceled Orders:\n",
    "sort_countries<-remove_na[order(remove_na$Country,remove_na$Description),]\n",
    "\n",
    "canceled_orders<-sort_countries[grep(\"C\",sort_countries$InvoiceNo),]\n",
    "\n",
    "head(canceled_orders)"
   ]
  },
  {
   "cell_type": "code",
   "execution_count": 10,
   "metadata": {},
   "outputs": [
    {
     "data": {
      "text/html": [
       "<table>\n",
       "<caption>A data.frame: 6 × 9</caption>\n",
       "<thead>\n",
       "\t<tr><th></th><th scope=col>InvoiceNo</th><th scope=col>StockCode</th><th scope=col>Description</th><th scope=col>Quantity</th><th scope=col>InvoiceDate</th><th scope=col>UnitPrice</th><th scope=col>CustomerID</th><th scope=col>Country</th><th scope=col>CanceledQty</th></tr>\n",
       "\t<tr><th></th><th scope=col>&lt;chr&gt;</th><th scope=col>&lt;chr&gt;</th><th scope=col>&lt;chr&gt;</th><th scope=col>&lt;int&gt;</th><th scope=col>&lt;chr&gt;</th><th scope=col>&lt;dbl&gt;</th><th scope=col>&lt;int&gt;</th><th scope=col>&lt;chr&gt;</th><th scope=col>&lt;dbl&gt;</th></tr>\n",
       "</thead>\n",
       "<tbody>\n",
       "\t<tr><th scope=row>302520</th><td>563614</td><td>23345</td><td> DOLLY GIRL BEAKER           </td><td>200</td><td>8/18/2011 8:51 </td><td>1.08</td><td>12415</td><td>Australia</td><td>1</td></tr>\n",
       "\t<tr><th scope=row>362626</th><td>568708</td><td>23391</td><td> I LOVE LONDON MINI BACKPACK </td><td>  4</td><td>9/28/2011 15:41</td><td>4.15</td><td>12393</td><td>Australia</td><td>1</td></tr>\n",
       "\t<tr><th scope=row>226306</th><td>556917</td><td>22418</td><td>10 COLOUR SPACEBOY PEN       </td><td> 48</td><td>6/15/2011 13:37</td><td>0.85</td><td>12415</td><td>Australia</td><td>1</td></tr>\n",
       "\t<tr><th scope=row>89387</th><td>543989</td><td>20973</td><td>12 PENCIL SMALL TUBE WOODLAND</td><td>384</td><td>2/15/2011 9:52 </td><td>0.55</td><td>12415</td><td>Australia</td><td>1</td></tr>\n",
       "\t<tr><th scope=row>131085</th><td>547659</td><td>20984</td><td>12 PENCILS TALL TUBE POSY    </td><td> 12</td><td>3/24/2011 13:05</td><td>0.85</td><td>12434</td><td>Australia</td><td>1</td></tr>\n",
       "\t<tr><th scope=row>226294</th><td>556917</td><td>20984</td><td>12 PENCILS TALL TUBE POSY    </td><td>240</td><td>6/15/2011 13:37</td><td>0.29</td><td>12415</td><td>Australia</td><td>1</td></tr>\n",
       "</tbody>\n",
       "</table>\n"
      ],
      "text/latex": [
       "A data.frame: 6 × 9\n",
       "\\begin{tabular}{r|lllllllll}\n",
       "  & InvoiceNo & StockCode & Description & Quantity & InvoiceDate & UnitPrice & CustomerID & Country & CanceledQty\\\\\n",
       "  & <chr> & <chr> & <chr> & <int> & <chr> & <dbl> & <int> & <chr> & <dbl>\\\\\n",
       "\\hline\n",
       "\t302520 & 563614 & 23345 &  DOLLY GIRL BEAKER            & 200 & 8/18/2011 8:51  & 1.08 & 12415 & Australia & 1\\\\\n",
       "\t362626 & 568708 & 23391 &  I LOVE LONDON MINI BACKPACK  &   4 & 9/28/2011 15:41 & 4.15 & 12393 & Australia & 1\\\\\n",
       "\t226306 & 556917 & 22418 & 10 COLOUR SPACEBOY PEN        &  48 & 6/15/2011 13:37 & 0.85 & 12415 & Australia & 1\\\\\n",
       "\t89387 & 543989 & 20973 & 12 PENCIL SMALL TUBE WOODLAND & 384 & 2/15/2011 9:52  & 0.55 & 12415 & Australia & 1\\\\\n",
       "\t131085 & 547659 & 20984 & 12 PENCILS TALL TUBE POSY     &  12 & 3/24/2011 13:05 & 0.85 & 12434 & Australia & 1\\\\\n",
       "\t226294 & 556917 & 20984 & 12 PENCILS TALL TUBE POSY     & 240 & 6/15/2011 13:37 & 0.29 & 12415 & Australia & 1\\\\\n",
       "\\end{tabular}\n"
      ],
      "text/markdown": [
       "\n",
       "A data.frame: 6 × 9\n",
       "\n",
       "| <!--/--> | InvoiceNo &lt;chr&gt; | StockCode &lt;chr&gt; | Description &lt;chr&gt; | Quantity &lt;int&gt; | InvoiceDate &lt;chr&gt; | UnitPrice &lt;dbl&gt; | CustomerID &lt;int&gt; | Country &lt;chr&gt; | CanceledQty &lt;dbl&gt; |\n",
       "|---|---|---|---|---|---|---|---|---|---|\n",
       "| 302520 | 563614 | 23345 |  DOLLY GIRL BEAKER            | 200 | 8/18/2011 8:51  | 1.08 | 12415 | Australia | 1 |\n",
       "| 362626 | 568708 | 23391 |  I LOVE LONDON MINI BACKPACK  |   4 | 9/28/2011 15:41 | 4.15 | 12393 | Australia | 1 |\n",
       "| 226306 | 556917 | 22418 | 10 COLOUR SPACEBOY PEN        |  48 | 6/15/2011 13:37 | 0.85 | 12415 | Australia | 1 |\n",
       "| 89387 | 543989 | 20973 | 12 PENCIL SMALL TUBE WOODLAND | 384 | 2/15/2011 9:52  | 0.55 | 12415 | Australia | 1 |\n",
       "| 131085 | 547659 | 20984 | 12 PENCILS TALL TUBE POSY     |  12 | 3/24/2011 13:05 | 0.85 | 12434 | Australia | 1 |\n",
       "| 226294 | 556917 | 20984 | 12 PENCILS TALL TUBE POSY     | 240 | 6/15/2011 13:37 | 0.29 | 12415 | Australia | 1 |\n",
       "\n"
      ],
      "text/plain": [
       "       InvoiceNo StockCode Description                   Quantity\n",
       "302520 563614    23345      DOLLY GIRL BEAKER            200     \n",
       "362626 568708    23391      I LOVE LONDON MINI BACKPACK    4     \n",
       "226306 556917    22418     10 COLOUR SPACEBOY PEN         48     \n",
       "89387  543989    20973     12 PENCIL SMALL TUBE WOODLAND 384     \n",
       "131085 547659    20984     12 PENCILS TALL TUBE POSY      12     \n",
       "226294 556917    20984     12 PENCILS TALL TUBE POSY     240     \n",
       "       InvoiceDate     UnitPrice CustomerID Country   CanceledQty\n",
       "302520 8/18/2011 8:51  1.08      12415      Australia 1          \n",
       "362626 9/28/2011 15:41 4.15      12393      Australia 1          \n",
       "226306 6/15/2011 13:37 0.85      12415      Australia 1          \n",
       "89387  2/15/2011 9:52  0.55      12415      Australia 1          \n",
       "131085 3/24/2011 13:05 0.85      12434      Australia 1          \n",
       "226294 6/15/2011 13:37 0.29      12415      Australia 1          "
      ]
     },
     "metadata": {},
     "output_type": "display_data"
    }
   ],
   "source": [
    "# Using If/Else Conditions: here we are convert a qty of >1 to 1, else 0.\n",
    "sort_countries$CanceledQty <- ifelse(sort_countries$Quantity>=1, 1, 0)\n",
    "head(sort_countries)"
   ]
  },
  {
   "cell_type": "code",
   "execution_count": 11,
   "metadata": {},
   "outputs": [],
   "source": [
    "# Enabling Now to match rows and remove: this is because a canceled order usually\n",
    "# has a corresponding value, unless it occured before dataset date range\n",
    "\n",
    "canceled_orders$Quantity<-abs(canceled_orders$Quantity)\n",
    "sort_countries$Quantity<-abs(sort_countries$Quantity)\n",
    "# head(sort_countries)"
   ]
  },
  {
   "cell_type": "code",
   "execution_count": 12,
   "metadata": {},
   "outputs": [
    {
     "name": "stderr",
     "output_type": "stream",
     "text": [
      "Joining, by = c(\"StockCode\", \"Quantity\", \"CustomerID\")\n",
      "\n"
     ]
    }
   ],
   "source": [
    "fun<-sort_countries %>% \n",
    "  left_join(select(canceled_orders, CustomerID, StockCode, Quantity, Matches=Country)) %>% \n",
    "  mutate(Matches=ifelse(is.na(Matches), FALSE, TRUE))"
   ]
  },
  {
   "cell_type": "code",
   "execution_count": 34,
   "metadata": {},
   "outputs": [],
   "source": [
    "mm<-fun[!duplicated(fun),]\n",
    "\n",
    "Order_Canceled<-mm[mm$Matches=='TRUE',] # corresponds to orginal match to canceled\n",
    "\n",
    "Rest_ofData<-mm[mm$Matches=='FALSE',] # Orders that were never canceled"
   ]
  },
  {
   "cell_type": "markdown",
   "metadata": {},
   "source": [
    "# `NEW CODE FOR TODAY`\n",
    "\n",
    "+ Label Encoding & One Hot Examples:\n",
    "\n",
    "`-------------------------------------`"
   ]
  },
  {
   "cell_type": "markdown",
   "metadata": {},
   "source": [
    "# `Label Encode Ex.1)`"
   ]
  },
  {
   "cell_type": "code",
   "execution_count": null,
   "metadata": {},
   "outputs": [],
   "source": [
    "# LABEL ENCODE:\n",
    "\n",
    "country_LabelEncode<-as.numeric(as.factor(Rest_ofData$Country))\n",
    "# length(unique(Rest_ofData$Country))"
   ]
  },
  {
   "cell_type": "markdown",
   "metadata": {},
   "source": [
    "# Ex. 2) `Using(CatEncoders)Library`: Label Encoding"
   ]
  },
  {
   "cell_type": "code",
   "execution_count": null,
   "metadata": {},
   "outputs": [],
   "source": [
    "# Label Encode \n",
    "\n",
    "countr_labelEncodetwo<-LabelEncoder.fit(Rest_ofData$Country)\n",
    "\n",
    "transform(countr_labelEncodetwo, matrix(Rest_ofData$Country))"
   ]
  },
  {
   "cell_type": "markdown",
   "metadata": {},
   "source": [
    "# One Hot Examples: \n",
    "\n",
    "+ Ex. 1) Using `Design Matrix` : 'Model Matrix'"
   ]
  },
  {
   "cell_type": "code",
   "execution_count": 119,
   "metadata": {},
   "outputs": [
    {
     "data": {
      "text/html": [
       "<table>\n",
       "<caption>A data.frame: 6 × 37</caption>\n",
       "<thead>\n",
       "\t<tr><th></th><th scope=col>Rest_ofData.CountryAustralia</th><th scope=col>Rest_ofData.CountryAustria</th><th scope=col>Rest_ofData.CountryBahrain</th><th scope=col>Rest_ofData.CountryBelgium</th><th scope=col>Rest_ofData.CountryBrazil</th><th scope=col>Rest_ofData.CountryCanada</th><th scope=col>Rest_ofData.CountryChannel.Islands</th><th scope=col>Rest_ofData.CountryCyprus</th><th scope=col>Rest_ofData.CountryCzech.Republic</th><th scope=col>Rest_ofData.CountryDenmark</th><th scope=col>⋯</th><th scope=col>Rest_ofData.CountryRSA</th><th scope=col>Rest_ofData.CountrySaudi.Arabia</th><th scope=col>Rest_ofData.CountrySingapore</th><th scope=col>Rest_ofData.CountrySpain</th><th scope=col>Rest_ofData.CountrySweden</th><th scope=col>Rest_ofData.CountrySwitzerland</th><th scope=col>Rest_ofData.CountryUnited.Arab.Emirates</th><th scope=col>Rest_ofData.CountryUnited.Kingdom</th><th scope=col>Rest_ofData.CountryUnspecified</th><th scope=col>Rest_ofData.CountryUSA</th></tr>\n",
       "\t<tr><th></th><th scope=col>&lt;dbl&gt;</th><th scope=col>&lt;dbl&gt;</th><th scope=col>&lt;dbl&gt;</th><th scope=col>&lt;dbl&gt;</th><th scope=col>&lt;dbl&gt;</th><th scope=col>&lt;dbl&gt;</th><th scope=col>&lt;dbl&gt;</th><th scope=col>&lt;dbl&gt;</th><th scope=col>&lt;dbl&gt;</th><th scope=col>&lt;dbl&gt;</th><th scope=col>⋯</th><th scope=col>&lt;dbl&gt;</th><th scope=col>&lt;dbl&gt;</th><th scope=col>&lt;dbl&gt;</th><th scope=col>&lt;dbl&gt;</th><th scope=col>&lt;dbl&gt;</th><th scope=col>&lt;dbl&gt;</th><th scope=col>&lt;dbl&gt;</th><th scope=col>&lt;dbl&gt;</th><th scope=col>&lt;dbl&gt;</th><th scope=col>&lt;dbl&gt;</th></tr>\n",
       "</thead>\n",
       "<tbody>\n",
       "\t<tr><th scope=row>1</th><td>1</td><td>0</td><td>0</td><td>0</td><td>0</td><td>0</td><td>0</td><td>0</td><td>0</td><td>0</td><td>⋯</td><td>0</td><td>0</td><td>0</td><td>0</td><td>0</td><td>0</td><td>0</td><td>0</td><td>0</td><td>0</td></tr>\n",
       "\t<tr><th scope=row>2</th><td>1</td><td>0</td><td>0</td><td>0</td><td>0</td><td>0</td><td>0</td><td>0</td><td>0</td><td>0</td><td>⋯</td><td>0</td><td>0</td><td>0</td><td>0</td><td>0</td><td>0</td><td>0</td><td>0</td><td>0</td><td>0</td></tr>\n",
       "\t<tr><th scope=row>3</th><td>1</td><td>0</td><td>0</td><td>0</td><td>0</td><td>0</td><td>0</td><td>0</td><td>0</td><td>0</td><td>⋯</td><td>0</td><td>0</td><td>0</td><td>0</td><td>0</td><td>0</td><td>0</td><td>0</td><td>0</td><td>0</td></tr>\n",
       "\t<tr><th scope=row>4</th><td>1</td><td>0</td><td>0</td><td>0</td><td>0</td><td>0</td><td>0</td><td>0</td><td>0</td><td>0</td><td>⋯</td><td>0</td><td>0</td><td>0</td><td>0</td><td>0</td><td>0</td><td>0</td><td>0</td><td>0</td><td>0</td></tr>\n",
       "\t<tr><th scope=row>5</th><td>1</td><td>0</td><td>0</td><td>0</td><td>0</td><td>0</td><td>0</td><td>0</td><td>0</td><td>0</td><td>⋯</td><td>0</td><td>0</td><td>0</td><td>0</td><td>0</td><td>0</td><td>0</td><td>0</td><td>0</td><td>0</td></tr>\n",
       "\t<tr><th scope=row>6</th><td>1</td><td>0</td><td>0</td><td>0</td><td>0</td><td>0</td><td>0</td><td>0</td><td>0</td><td>0</td><td>⋯</td><td>0</td><td>0</td><td>0</td><td>0</td><td>0</td><td>0</td><td>0</td><td>0</td><td>0</td><td>0</td></tr>\n",
       "</tbody>\n",
       "</table>\n"
      ],
      "text/latex": [
       "A data.frame: 6 × 37\n",
       "\\begin{tabular}{r|lllllllllllllllllllll}\n",
       "  & Rest\\_ofData.CountryAustralia & Rest\\_ofData.CountryAustria & Rest\\_ofData.CountryBahrain & Rest\\_ofData.CountryBelgium & Rest\\_ofData.CountryBrazil & Rest\\_ofData.CountryCanada & Rest\\_ofData.CountryChannel.Islands & Rest\\_ofData.CountryCyprus & Rest\\_ofData.CountryCzech.Republic & Rest\\_ofData.CountryDenmark & ⋯ & Rest\\_ofData.CountryRSA & Rest\\_ofData.CountrySaudi.Arabia & Rest\\_ofData.CountrySingapore & Rest\\_ofData.CountrySpain & Rest\\_ofData.CountrySweden & Rest\\_ofData.CountrySwitzerland & Rest\\_ofData.CountryUnited.Arab.Emirates & Rest\\_ofData.CountryUnited.Kingdom & Rest\\_ofData.CountryUnspecified & Rest\\_ofData.CountryUSA\\\\\n",
       "  & <dbl> & <dbl> & <dbl> & <dbl> & <dbl> & <dbl> & <dbl> & <dbl> & <dbl> & <dbl> & ⋯ & <dbl> & <dbl> & <dbl> & <dbl> & <dbl> & <dbl> & <dbl> & <dbl> & <dbl> & <dbl>\\\\\n",
       "\\hline\n",
       "\t1 & 1 & 0 & 0 & 0 & 0 & 0 & 0 & 0 & 0 & 0 & ⋯ & 0 & 0 & 0 & 0 & 0 & 0 & 0 & 0 & 0 & 0\\\\\n",
       "\t2 & 1 & 0 & 0 & 0 & 0 & 0 & 0 & 0 & 0 & 0 & ⋯ & 0 & 0 & 0 & 0 & 0 & 0 & 0 & 0 & 0 & 0\\\\\n",
       "\t3 & 1 & 0 & 0 & 0 & 0 & 0 & 0 & 0 & 0 & 0 & ⋯ & 0 & 0 & 0 & 0 & 0 & 0 & 0 & 0 & 0 & 0\\\\\n",
       "\t4 & 1 & 0 & 0 & 0 & 0 & 0 & 0 & 0 & 0 & 0 & ⋯ & 0 & 0 & 0 & 0 & 0 & 0 & 0 & 0 & 0 & 0\\\\\n",
       "\t5 & 1 & 0 & 0 & 0 & 0 & 0 & 0 & 0 & 0 & 0 & ⋯ & 0 & 0 & 0 & 0 & 0 & 0 & 0 & 0 & 0 & 0\\\\\n",
       "\t6 & 1 & 0 & 0 & 0 & 0 & 0 & 0 & 0 & 0 & 0 & ⋯ & 0 & 0 & 0 & 0 & 0 & 0 & 0 & 0 & 0 & 0\\\\\n",
       "\\end{tabular}\n"
      ],
      "text/markdown": [
       "\n",
       "A data.frame: 6 × 37\n",
       "\n",
       "| <!--/--> | Rest_ofData.CountryAustralia &lt;dbl&gt; | Rest_ofData.CountryAustria &lt;dbl&gt; | Rest_ofData.CountryBahrain &lt;dbl&gt; | Rest_ofData.CountryBelgium &lt;dbl&gt; | Rest_ofData.CountryBrazil &lt;dbl&gt; | Rest_ofData.CountryCanada &lt;dbl&gt; | Rest_ofData.CountryChannel.Islands &lt;dbl&gt; | Rest_ofData.CountryCyprus &lt;dbl&gt; | Rest_ofData.CountryCzech.Republic &lt;dbl&gt; | Rest_ofData.CountryDenmark &lt;dbl&gt; | ⋯ ⋯ | Rest_ofData.CountryRSA &lt;dbl&gt; | Rest_ofData.CountrySaudi.Arabia &lt;dbl&gt; | Rest_ofData.CountrySingapore &lt;dbl&gt; | Rest_ofData.CountrySpain &lt;dbl&gt; | Rest_ofData.CountrySweden &lt;dbl&gt; | Rest_ofData.CountrySwitzerland &lt;dbl&gt; | Rest_ofData.CountryUnited.Arab.Emirates &lt;dbl&gt; | Rest_ofData.CountryUnited.Kingdom &lt;dbl&gt; | Rest_ofData.CountryUnspecified &lt;dbl&gt; | Rest_ofData.CountryUSA &lt;dbl&gt; |\n",
       "|---|---|---|---|---|---|---|---|---|---|---|---|---|---|---|---|---|---|---|---|---|---|\n",
       "| 1 | 1 | 0 | 0 | 0 | 0 | 0 | 0 | 0 | 0 | 0 | ⋯ | 0 | 0 | 0 | 0 | 0 | 0 | 0 | 0 | 0 | 0 |\n",
       "| 2 | 1 | 0 | 0 | 0 | 0 | 0 | 0 | 0 | 0 | 0 | ⋯ | 0 | 0 | 0 | 0 | 0 | 0 | 0 | 0 | 0 | 0 |\n",
       "| 3 | 1 | 0 | 0 | 0 | 0 | 0 | 0 | 0 | 0 | 0 | ⋯ | 0 | 0 | 0 | 0 | 0 | 0 | 0 | 0 | 0 | 0 |\n",
       "| 4 | 1 | 0 | 0 | 0 | 0 | 0 | 0 | 0 | 0 | 0 | ⋯ | 0 | 0 | 0 | 0 | 0 | 0 | 0 | 0 | 0 | 0 |\n",
       "| 5 | 1 | 0 | 0 | 0 | 0 | 0 | 0 | 0 | 0 | 0 | ⋯ | 0 | 0 | 0 | 0 | 0 | 0 | 0 | 0 | 0 | 0 |\n",
       "| 6 | 1 | 0 | 0 | 0 | 0 | 0 | 0 | 0 | 0 | 0 | ⋯ | 0 | 0 | 0 | 0 | 0 | 0 | 0 | 0 | 0 | 0 |\n",
       "\n"
      ],
      "text/plain": [
       "  Rest_ofData.CountryAustralia Rest_ofData.CountryAustria\n",
       "1 1                            0                         \n",
       "2 1                            0                         \n",
       "3 1                            0                         \n",
       "4 1                            0                         \n",
       "5 1                            0                         \n",
       "6 1                            0                         \n",
       "  Rest_ofData.CountryBahrain Rest_ofData.CountryBelgium\n",
       "1 0                          0                         \n",
       "2 0                          0                         \n",
       "3 0                          0                         \n",
       "4 0                          0                         \n",
       "5 0                          0                         \n",
       "6 0                          0                         \n",
       "  Rest_ofData.CountryBrazil Rest_ofData.CountryCanada\n",
       "1 0                         0                        \n",
       "2 0                         0                        \n",
       "3 0                         0                        \n",
       "4 0                         0                        \n",
       "5 0                         0                        \n",
       "6 0                         0                        \n",
       "  Rest_ofData.CountryChannel.Islands Rest_ofData.CountryCyprus\n",
       "1 0                                  0                        \n",
       "2 0                                  0                        \n",
       "3 0                                  0                        \n",
       "4 0                                  0                        \n",
       "5 0                                  0                        \n",
       "6 0                                  0                        \n",
       "  Rest_ofData.CountryCzech.Republic Rest_ofData.CountryDenmark ⋯\n",
       "1 0                                 0                          ⋯\n",
       "2 0                                 0                          ⋯\n",
       "3 0                                 0                          ⋯\n",
       "4 0                                 0                          ⋯\n",
       "5 0                                 0                          ⋯\n",
       "6 0                                 0                          ⋯\n",
       "  Rest_ofData.CountryRSA Rest_ofData.CountrySaudi.Arabia\n",
       "1 0                      0                              \n",
       "2 0                      0                              \n",
       "3 0                      0                              \n",
       "4 0                      0                              \n",
       "5 0                      0                              \n",
       "6 0                      0                              \n",
       "  Rest_ofData.CountrySingapore Rest_ofData.CountrySpain\n",
       "1 0                            0                       \n",
       "2 0                            0                       \n",
       "3 0                            0                       \n",
       "4 0                            0                       \n",
       "5 0                            0                       \n",
       "6 0                            0                       \n",
       "  Rest_ofData.CountrySweden Rest_ofData.CountrySwitzerland\n",
       "1 0                         0                             \n",
       "2 0                         0                             \n",
       "3 0                         0                             \n",
       "4 0                         0                             \n",
       "5 0                         0                             \n",
       "6 0                         0                             \n",
       "  Rest_ofData.CountryUnited.Arab.Emirates Rest_ofData.CountryUnited.Kingdom\n",
       "1 0                                       0                                \n",
       "2 0                                       0                                \n",
       "3 0                                       0                                \n",
       "4 0                                       0                                \n",
       "5 0                                       0                                \n",
       "6 0                                       0                                \n",
       "  Rest_ofData.CountryUnspecified Rest_ofData.CountryUSA\n",
       "1 0                              0                     \n",
       "2 0                              0                     \n",
       "3 0                              0                     \n",
       "4 0                              0                     \n",
       "5 0                              0                     \n",
       "6 0                              0                     "
      ]
     },
     "metadata": {},
     "output_type": "display_data"
    }
   ],
   "source": [
    "# One Hot Encode Columns:\n",
    "dfcat<-data.frame(model.matrix(~Rest_ofData$Country-1,data=as.factor(Rest_ofData$Country)))\n",
    "\n",
    "\n",
    "head(dfcat)"
   ]
  },
  {
   "cell_type": "code",
   "execution_count": 217,
   "metadata": {},
   "outputs": [],
   "source": [
    "# Create Sparse Matrix to save memory:\n",
    "# library(Matrix)\n",
    "sparse_matrix_encode<-Matrix(as.matrix(dfcat),sparse = T)"
   ]
  },
  {
   "cell_type": "code",
   "execution_count": 220,
   "metadata": {},
   "outputs": [
    {
     "data": {
      "text/html": [
       "<table>\n",
       "<caption>A data.frame: 6 × 37</caption>\n",
       "<thead>\n",
       "\t<tr><th></th><th scope=col>Rest_ofData.CountryAustralia</th><th scope=col>Rest_ofData.CountryAustria</th><th scope=col>Rest_ofData.CountryBahrain</th><th scope=col>Rest_ofData.CountryBelgium</th><th scope=col>Rest_ofData.CountryBrazil</th><th scope=col>Rest_ofData.CountryCanada</th><th scope=col>Rest_ofData.CountryChannel.Islands</th><th scope=col>Rest_ofData.CountryCyprus</th><th scope=col>Rest_ofData.CountryCzech.Republic</th><th scope=col>Rest_ofData.CountryDenmark</th><th scope=col>⋯</th><th scope=col>Rest_ofData.CountryRSA</th><th scope=col>Rest_ofData.CountrySaudi.Arabia</th><th scope=col>Rest_ofData.CountrySingapore</th><th scope=col>Rest_ofData.CountrySpain</th><th scope=col>Rest_ofData.CountrySweden</th><th scope=col>Rest_ofData.CountrySwitzerland</th><th scope=col>Rest_ofData.CountryUnited.Arab.Emirates</th><th scope=col>Rest_ofData.CountryUnited.Kingdom</th><th scope=col>Rest_ofData.CountryUnspecified</th><th scope=col>Rest_ofData.CountryUSA</th></tr>\n",
       "\t<tr><th></th><th scope=col>&lt;dbl&gt;</th><th scope=col>&lt;dbl&gt;</th><th scope=col>&lt;dbl&gt;</th><th scope=col>&lt;dbl&gt;</th><th scope=col>&lt;dbl&gt;</th><th scope=col>&lt;dbl&gt;</th><th scope=col>&lt;dbl&gt;</th><th scope=col>&lt;dbl&gt;</th><th scope=col>&lt;dbl&gt;</th><th scope=col>&lt;dbl&gt;</th><th scope=col>⋯</th><th scope=col>&lt;dbl&gt;</th><th scope=col>&lt;dbl&gt;</th><th scope=col>&lt;dbl&gt;</th><th scope=col>&lt;dbl&gt;</th><th scope=col>&lt;dbl&gt;</th><th scope=col>&lt;dbl&gt;</th><th scope=col>&lt;dbl&gt;</th><th scope=col>&lt;dbl&gt;</th><th scope=col>&lt;dbl&gt;</th><th scope=col>&lt;dbl&gt;</th></tr>\n",
       "</thead>\n",
       "<tbody>\n",
       "\t<tr><th scope=row>1</th><td>1</td><td>0</td><td>0</td><td>0</td><td>0</td><td>0</td><td>0</td><td>0</td><td>0</td><td>0</td><td>⋯</td><td>0</td><td>0</td><td>0</td><td>0</td><td>0</td><td>0</td><td>0</td><td>0</td><td>0</td><td>0</td></tr>\n",
       "\t<tr><th scope=row>1112</th><td>0</td><td>1</td><td>0</td><td>0</td><td>0</td><td>0</td><td>0</td><td>0</td><td>0</td><td>0</td><td>⋯</td><td>0</td><td>0</td><td>0</td><td>0</td><td>0</td><td>0</td><td>0</td><td>0</td><td>0</td><td>0</td></tr>\n",
       "\t<tr><th scope=row>1510</th><td>0</td><td>0</td><td>1</td><td>0</td><td>0</td><td>0</td><td>0</td><td>0</td><td>0</td><td>0</td><td>⋯</td><td>0</td><td>0</td><td>0</td><td>0</td><td>0</td><td>0</td><td>0</td><td>0</td><td>0</td><td>0</td></tr>\n",
       "\t<tr><th scope=row>1527</th><td>0</td><td>0</td><td>0</td><td>1</td><td>0</td><td>0</td><td>0</td><td>0</td><td>0</td><td>0</td><td>⋯</td><td>0</td><td>0</td><td>0</td><td>0</td><td>0</td><td>0</td><td>0</td><td>0</td><td>0</td><td>0</td></tr>\n",
       "\t<tr><th scope=row>3547</th><td>0</td><td>0</td><td>0</td><td>0</td><td>1</td><td>0</td><td>0</td><td>0</td><td>0</td><td>0</td><td>⋯</td><td>0</td><td>0</td><td>0</td><td>0</td><td>0</td><td>0</td><td>0</td><td>0</td><td>0</td><td>0</td></tr>\n",
       "\t<tr><th scope=row>3579</th><td>0</td><td>0</td><td>0</td><td>0</td><td>0</td><td>1</td><td>0</td><td>0</td><td>0</td><td>0</td><td>⋯</td><td>0</td><td>0</td><td>0</td><td>0</td><td>0</td><td>0</td><td>0</td><td>0</td><td>0</td><td>0</td></tr>\n",
       "</tbody>\n",
       "</table>\n"
      ],
      "text/latex": [
       "A data.frame: 6 × 37\n",
       "\\begin{tabular}{r|lllllllllllllllllllll}\n",
       "  & Rest\\_ofData.CountryAustralia & Rest\\_ofData.CountryAustria & Rest\\_ofData.CountryBahrain & Rest\\_ofData.CountryBelgium & Rest\\_ofData.CountryBrazil & Rest\\_ofData.CountryCanada & Rest\\_ofData.CountryChannel.Islands & Rest\\_ofData.CountryCyprus & Rest\\_ofData.CountryCzech.Republic & Rest\\_ofData.CountryDenmark & ⋯ & Rest\\_ofData.CountryRSA & Rest\\_ofData.CountrySaudi.Arabia & Rest\\_ofData.CountrySingapore & Rest\\_ofData.CountrySpain & Rest\\_ofData.CountrySweden & Rest\\_ofData.CountrySwitzerland & Rest\\_ofData.CountryUnited.Arab.Emirates & Rest\\_ofData.CountryUnited.Kingdom & Rest\\_ofData.CountryUnspecified & Rest\\_ofData.CountryUSA\\\\\n",
       "  & <dbl> & <dbl> & <dbl> & <dbl> & <dbl> & <dbl> & <dbl> & <dbl> & <dbl> & <dbl> & ⋯ & <dbl> & <dbl> & <dbl> & <dbl> & <dbl> & <dbl> & <dbl> & <dbl> & <dbl> & <dbl>\\\\\n",
       "\\hline\n",
       "\t1 & 1 & 0 & 0 & 0 & 0 & 0 & 0 & 0 & 0 & 0 & ⋯ & 0 & 0 & 0 & 0 & 0 & 0 & 0 & 0 & 0 & 0\\\\\n",
       "\t1112 & 0 & 1 & 0 & 0 & 0 & 0 & 0 & 0 & 0 & 0 & ⋯ & 0 & 0 & 0 & 0 & 0 & 0 & 0 & 0 & 0 & 0\\\\\n",
       "\t1510 & 0 & 0 & 1 & 0 & 0 & 0 & 0 & 0 & 0 & 0 & ⋯ & 0 & 0 & 0 & 0 & 0 & 0 & 0 & 0 & 0 & 0\\\\\n",
       "\t1527 & 0 & 0 & 0 & 1 & 0 & 0 & 0 & 0 & 0 & 0 & ⋯ & 0 & 0 & 0 & 0 & 0 & 0 & 0 & 0 & 0 & 0\\\\\n",
       "\t3547 & 0 & 0 & 0 & 0 & 1 & 0 & 0 & 0 & 0 & 0 & ⋯ & 0 & 0 & 0 & 0 & 0 & 0 & 0 & 0 & 0 & 0\\\\\n",
       "\t3579 & 0 & 0 & 0 & 0 & 0 & 1 & 0 & 0 & 0 & 0 & ⋯ & 0 & 0 & 0 & 0 & 0 & 0 & 0 & 0 & 0 & 0\\\\\n",
       "\\end{tabular}\n"
      ],
      "text/markdown": [
       "\n",
       "A data.frame: 6 × 37\n",
       "\n",
       "| <!--/--> | Rest_ofData.CountryAustralia &lt;dbl&gt; | Rest_ofData.CountryAustria &lt;dbl&gt; | Rest_ofData.CountryBahrain &lt;dbl&gt; | Rest_ofData.CountryBelgium &lt;dbl&gt; | Rest_ofData.CountryBrazil &lt;dbl&gt; | Rest_ofData.CountryCanada &lt;dbl&gt; | Rest_ofData.CountryChannel.Islands &lt;dbl&gt; | Rest_ofData.CountryCyprus &lt;dbl&gt; | Rest_ofData.CountryCzech.Republic &lt;dbl&gt; | Rest_ofData.CountryDenmark &lt;dbl&gt; | ⋯ ⋯ | Rest_ofData.CountryRSA &lt;dbl&gt; | Rest_ofData.CountrySaudi.Arabia &lt;dbl&gt; | Rest_ofData.CountrySingapore &lt;dbl&gt; | Rest_ofData.CountrySpain &lt;dbl&gt; | Rest_ofData.CountrySweden &lt;dbl&gt; | Rest_ofData.CountrySwitzerland &lt;dbl&gt; | Rest_ofData.CountryUnited.Arab.Emirates &lt;dbl&gt; | Rest_ofData.CountryUnited.Kingdom &lt;dbl&gt; | Rest_ofData.CountryUnspecified &lt;dbl&gt; | Rest_ofData.CountryUSA &lt;dbl&gt; |\n",
       "|---|---|---|---|---|---|---|---|---|---|---|---|---|---|---|---|---|---|---|---|---|---|\n",
       "| 1 | 1 | 0 | 0 | 0 | 0 | 0 | 0 | 0 | 0 | 0 | ⋯ | 0 | 0 | 0 | 0 | 0 | 0 | 0 | 0 | 0 | 0 |\n",
       "| 1112 | 0 | 1 | 0 | 0 | 0 | 0 | 0 | 0 | 0 | 0 | ⋯ | 0 | 0 | 0 | 0 | 0 | 0 | 0 | 0 | 0 | 0 |\n",
       "| 1510 | 0 | 0 | 1 | 0 | 0 | 0 | 0 | 0 | 0 | 0 | ⋯ | 0 | 0 | 0 | 0 | 0 | 0 | 0 | 0 | 0 | 0 |\n",
       "| 1527 | 0 | 0 | 0 | 1 | 0 | 0 | 0 | 0 | 0 | 0 | ⋯ | 0 | 0 | 0 | 0 | 0 | 0 | 0 | 0 | 0 | 0 |\n",
       "| 3547 | 0 | 0 | 0 | 0 | 1 | 0 | 0 | 0 | 0 | 0 | ⋯ | 0 | 0 | 0 | 0 | 0 | 0 | 0 | 0 | 0 | 0 |\n",
       "| 3579 | 0 | 0 | 0 | 0 | 0 | 1 | 0 | 0 | 0 | 0 | ⋯ | 0 | 0 | 0 | 0 | 0 | 0 | 0 | 0 | 0 | 0 |\n",
       "\n"
      ],
      "text/plain": [
       "     Rest_ofData.CountryAustralia Rest_ofData.CountryAustria\n",
       "1    1                            0                         \n",
       "1112 0                            1                         \n",
       "1510 0                            0                         \n",
       "1527 0                            0                         \n",
       "3547 0                            0                         \n",
       "3579 0                            0                         \n",
       "     Rest_ofData.CountryBahrain Rest_ofData.CountryBelgium\n",
       "1    0                          0                         \n",
       "1112 0                          0                         \n",
       "1510 1                          0                         \n",
       "1527 0                          1                         \n",
       "3547 0                          0                         \n",
       "3579 0                          0                         \n",
       "     Rest_ofData.CountryBrazil Rest_ofData.CountryCanada\n",
       "1    0                         0                        \n",
       "1112 0                         0                        \n",
       "1510 0                         0                        \n",
       "1527 0                         0                        \n",
       "3547 1                         0                        \n",
       "3579 0                         1                        \n",
       "     Rest_ofData.CountryChannel.Islands Rest_ofData.CountryCyprus\n",
       "1    0                                  0                        \n",
       "1112 0                                  0                        \n",
       "1510 0                                  0                        \n",
       "1527 0                                  0                        \n",
       "3547 0                                  0                        \n",
       "3579 0                                  0                        \n",
       "     Rest_ofData.CountryCzech.Republic Rest_ofData.CountryDenmark ⋯\n",
       "1    0                                 0                          ⋯\n",
       "1112 0                                 0                          ⋯\n",
       "1510 0                                 0                          ⋯\n",
       "1527 0                                 0                          ⋯\n",
       "3547 0                                 0                          ⋯\n",
       "3579 0                                 0                          ⋯\n",
       "     Rest_ofData.CountryRSA Rest_ofData.CountrySaudi.Arabia\n",
       "1    0                      0                              \n",
       "1112 0                      0                              \n",
       "1510 0                      0                              \n",
       "1527 0                      0                              \n",
       "3547 0                      0                              \n",
       "3579 0                      0                              \n",
       "     Rest_ofData.CountrySingapore Rest_ofData.CountrySpain\n",
       "1    0                            0                       \n",
       "1112 0                            0                       \n",
       "1510 0                            0                       \n",
       "1527 0                            0                       \n",
       "3547 0                            0                       \n",
       "3579 0                            0                       \n",
       "     Rest_ofData.CountrySweden Rest_ofData.CountrySwitzerland\n",
       "1    0                         0                             \n",
       "1112 0                         0                             \n",
       "1510 0                         0                             \n",
       "1527 0                         0                             \n",
       "3547 0                         0                             \n",
       "3579 0                         0                             \n",
       "     Rest_ofData.CountryUnited.Arab.Emirates Rest_ofData.CountryUnited.Kingdom\n",
       "1    0                                       0                                \n",
       "1112 0                                       0                                \n",
       "1510 0                                       0                                \n",
       "1527 0                                       0                                \n",
       "3547 0                                       0                                \n",
       "3579 0                                       0                                \n",
       "     Rest_ofData.CountryUnspecified Rest_ofData.CountryUSA\n",
       "1    0                              0                     \n",
       "1112 0                              0                     \n",
       "1510 0                              0                     \n",
       "1527 0                              0                     \n",
       "3547 0                              0                     \n",
       "3579 0                              0                     "
      ]
     },
     "metadata": {},
     "output_type": "display_data"
    }
   ],
   "source": [
    "head(unique(dfcat))\n",
    "\n",
    "# head(sparse_matrix_encode)"
   ]
  },
  {
   "cell_type": "code",
   "execution_count": null,
   "metadata": {},
   "outputs": [],
   "source": [
    "# Pay Attention when dealing with Multiple columns of categorical data it EXPLODES In Size\n",
    "object.size(sparse_matrix_encode) #2.9*10^8\n",
    "\n",
    "object.size(dfcat) # 1.39*10^9"
   ]
  },
  {
   "cell_type": "markdown",
   "metadata": {},
   "source": [
    "# Design Matrix: expanding DF to dummy variables\n",
    "+ *AKA* our One-Hot Enoding"
   ]
  },
  {
   "cell_type": "code",
   "execution_count": 221,
   "metadata": {},
   "outputs": [],
   "source": [
    "design_mat_two<-model.matrix(~Country-1,Rest_ofData)\n",
    "# length(unique(Cx))\n",
    "# head(Rest_ofData$Country)\n",
    "df_design_two<-data.frame(design_mat_two)"
   ]
  },
  {
   "cell_type": "code",
   "execution_count": 222,
   "metadata": {},
   "outputs": [
    {
     "data": {
      "text/html": [
       "<table>\n",
       "<caption>A data.frame: 6 × 37</caption>\n",
       "<thead>\n",
       "\t<tr><th></th><th scope=col>CountryAustralia</th><th scope=col>CountryAustria</th><th scope=col>CountryBahrain</th><th scope=col>CountryBelgium</th><th scope=col>CountryBrazil</th><th scope=col>CountryCanada</th><th scope=col>CountryChannel.Islands</th><th scope=col>CountryCyprus</th><th scope=col>CountryCzech.Republic</th><th scope=col>CountryDenmark</th><th scope=col>⋯</th><th scope=col>CountryRSA</th><th scope=col>CountrySaudi.Arabia</th><th scope=col>CountrySingapore</th><th scope=col>CountrySpain</th><th scope=col>CountrySweden</th><th scope=col>CountrySwitzerland</th><th scope=col>CountryUnited.Arab.Emirates</th><th scope=col>CountryUnited.Kingdom</th><th scope=col>CountryUnspecified</th><th scope=col>CountryUSA</th></tr>\n",
       "\t<tr><th></th><th scope=col>&lt;dbl&gt;</th><th scope=col>&lt;dbl&gt;</th><th scope=col>&lt;dbl&gt;</th><th scope=col>&lt;dbl&gt;</th><th scope=col>&lt;dbl&gt;</th><th scope=col>&lt;dbl&gt;</th><th scope=col>&lt;dbl&gt;</th><th scope=col>&lt;dbl&gt;</th><th scope=col>&lt;dbl&gt;</th><th scope=col>&lt;dbl&gt;</th><th scope=col>⋯</th><th scope=col>&lt;dbl&gt;</th><th scope=col>&lt;dbl&gt;</th><th scope=col>&lt;dbl&gt;</th><th scope=col>&lt;dbl&gt;</th><th scope=col>&lt;dbl&gt;</th><th scope=col>&lt;dbl&gt;</th><th scope=col>&lt;dbl&gt;</th><th scope=col>&lt;dbl&gt;</th><th scope=col>&lt;dbl&gt;</th><th scope=col>&lt;dbl&gt;</th></tr>\n",
       "</thead>\n",
       "<tbody>\n",
       "\t<tr><th scope=row>1</th><td>1</td><td>0</td><td>0</td><td>0</td><td>0</td><td>0</td><td>0</td><td>0</td><td>0</td><td>0</td><td>⋯</td><td>0</td><td>0</td><td>0</td><td>0</td><td>0</td><td>0</td><td>0</td><td>0</td><td>0</td><td>0</td></tr>\n",
       "\t<tr><th scope=row>1259</th><td>0</td><td>1</td><td>0</td><td>0</td><td>0</td><td>0</td><td>0</td><td>0</td><td>0</td><td>0</td><td>⋯</td><td>0</td><td>0</td><td>0</td><td>0</td><td>0</td><td>0</td><td>0</td><td>0</td><td>0</td><td>0</td></tr>\n",
       "\t<tr><th scope=row>1660</th><td>0</td><td>0</td><td>1</td><td>0</td><td>0</td><td>0</td><td>0</td><td>0</td><td>0</td><td>0</td><td>⋯</td><td>0</td><td>0</td><td>0</td><td>0</td><td>0</td><td>0</td><td>0</td><td>0</td><td>0</td><td>0</td></tr>\n",
       "\t<tr><th scope=row>1677</th><td>0</td><td>0</td><td>0</td><td>1</td><td>0</td><td>0</td><td>0</td><td>0</td><td>0</td><td>0</td><td>⋯</td><td>0</td><td>0</td><td>0</td><td>0</td><td>0</td><td>0</td><td>0</td><td>0</td><td>0</td><td>0</td></tr>\n",
       "\t<tr><th scope=row>3746</th><td>0</td><td>0</td><td>0</td><td>0</td><td>1</td><td>0</td><td>0</td><td>0</td><td>0</td><td>0</td><td>⋯</td><td>0</td><td>0</td><td>0</td><td>0</td><td>0</td><td>0</td><td>0</td><td>0</td><td>0</td><td>0</td></tr>\n",
       "\t<tr><th scope=row>3778</th><td>0</td><td>0</td><td>0</td><td>0</td><td>0</td><td>1</td><td>0</td><td>0</td><td>0</td><td>0</td><td>⋯</td><td>0</td><td>0</td><td>0</td><td>0</td><td>0</td><td>0</td><td>0</td><td>0</td><td>0</td><td>0</td></tr>\n",
       "</tbody>\n",
       "</table>\n"
      ],
      "text/latex": [
       "A data.frame: 6 × 37\n",
       "\\begin{tabular}{r|lllllllllllllllllllll}\n",
       "  & CountryAustralia & CountryAustria & CountryBahrain & CountryBelgium & CountryBrazil & CountryCanada & CountryChannel.Islands & CountryCyprus & CountryCzech.Republic & CountryDenmark & ⋯ & CountryRSA & CountrySaudi.Arabia & CountrySingapore & CountrySpain & CountrySweden & CountrySwitzerland & CountryUnited.Arab.Emirates & CountryUnited.Kingdom & CountryUnspecified & CountryUSA\\\\\n",
       "  & <dbl> & <dbl> & <dbl> & <dbl> & <dbl> & <dbl> & <dbl> & <dbl> & <dbl> & <dbl> & ⋯ & <dbl> & <dbl> & <dbl> & <dbl> & <dbl> & <dbl> & <dbl> & <dbl> & <dbl> & <dbl>\\\\\n",
       "\\hline\n",
       "\t1 & 1 & 0 & 0 & 0 & 0 & 0 & 0 & 0 & 0 & 0 & ⋯ & 0 & 0 & 0 & 0 & 0 & 0 & 0 & 0 & 0 & 0\\\\\n",
       "\t1259 & 0 & 1 & 0 & 0 & 0 & 0 & 0 & 0 & 0 & 0 & ⋯ & 0 & 0 & 0 & 0 & 0 & 0 & 0 & 0 & 0 & 0\\\\\n",
       "\t1660 & 0 & 0 & 1 & 0 & 0 & 0 & 0 & 0 & 0 & 0 & ⋯ & 0 & 0 & 0 & 0 & 0 & 0 & 0 & 0 & 0 & 0\\\\\n",
       "\t1677 & 0 & 0 & 0 & 1 & 0 & 0 & 0 & 0 & 0 & 0 & ⋯ & 0 & 0 & 0 & 0 & 0 & 0 & 0 & 0 & 0 & 0\\\\\n",
       "\t3746 & 0 & 0 & 0 & 0 & 1 & 0 & 0 & 0 & 0 & 0 & ⋯ & 0 & 0 & 0 & 0 & 0 & 0 & 0 & 0 & 0 & 0\\\\\n",
       "\t3778 & 0 & 0 & 0 & 0 & 0 & 1 & 0 & 0 & 0 & 0 & ⋯ & 0 & 0 & 0 & 0 & 0 & 0 & 0 & 0 & 0 & 0\\\\\n",
       "\\end{tabular}\n"
      ],
      "text/markdown": [
       "\n",
       "A data.frame: 6 × 37\n",
       "\n",
       "| <!--/--> | CountryAustralia &lt;dbl&gt; | CountryAustria &lt;dbl&gt; | CountryBahrain &lt;dbl&gt; | CountryBelgium &lt;dbl&gt; | CountryBrazil &lt;dbl&gt; | CountryCanada &lt;dbl&gt; | CountryChannel.Islands &lt;dbl&gt; | CountryCyprus &lt;dbl&gt; | CountryCzech.Republic &lt;dbl&gt; | CountryDenmark &lt;dbl&gt; | ⋯ ⋯ | CountryRSA &lt;dbl&gt; | CountrySaudi.Arabia &lt;dbl&gt; | CountrySingapore &lt;dbl&gt; | CountrySpain &lt;dbl&gt; | CountrySweden &lt;dbl&gt; | CountrySwitzerland &lt;dbl&gt; | CountryUnited.Arab.Emirates &lt;dbl&gt; | CountryUnited.Kingdom &lt;dbl&gt; | CountryUnspecified &lt;dbl&gt; | CountryUSA &lt;dbl&gt; |\n",
       "|---|---|---|---|---|---|---|---|---|---|---|---|---|---|---|---|---|---|---|---|---|---|\n",
       "| 1 | 1 | 0 | 0 | 0 | 0 | 0 | 0 | 0 | 0 | 0 | ⋯ | 0 | 0 | 0 | 0 | 0 | 0 | 0 | 0 | 0 | 0 |\n",
       "| 1259 | 0 | 1 | 0 | 0 | 0 | 0 | 0 | 0 | 0 | 0 | ⋯ | 0 | 0 | 0 | 0 | 0 | 0 | 0 | 0 | 0 | 0 |\n",
       "| 1660 | 0 | 0 | 1 | 0 | 0 | 0 | 0 | 0 | 0 | 0 | ⋯ | 0 | 0 | 0 | 0 | 0 | 0 | 0 | 0 | 0 | 0 |\n",
       "| 1677 | 0 | 0 | 0 | 1 | 0 | 0 | 0 | 0 | 0 | 0 | ⋯ | 0 | 0 | 0 | 0 | 0 | 0 | 0 | 0 | 0 | 0 |\n",
       "| 3746 | 0 | 0 | 0 | 0 | 1 | 0 | 0 | 0 | 0 | 0 | ⋯ | 0 | 0 | 0 | 0 | 0 | 0 | 0 | 0 | 0 | 0 |\n",
       "| 3778 | 0 | 0 | 0 | 0 | 0 | 1 | 0 | 0 | 0 | 0 | ⋯ | 0 | 0 | 0 | 0 | 0 | 0 | 0 | 0 | 0 | 0 |\n",
       "\n"
      ],
      "text/plain": [
       "     CountryAustralia CountryAustria CountryBahrain CountryBelgium\n",
       "1    1                0              0              0             \n",
       "1259 0                1              0              0             \n",
       "1660 0                0              1              0             \n",
       "1677 0                0              0              1             \n",
       "3746 0                0              0              0             \n",
       "3778 0                0              0              0             \n",
       "     CountryBrazil CountryCanada CountryChannel.Islands CountryCyprus\n",
       "1    0             0             0                      0            \n",
       "1259 0             0             0                      0            \n",
       "1660 0             0             0                      0            \n",
       "1677 0             0             0                      0            \n",
       "3746 1             0             0                      0            \n",
       "3778 0             1             0                      0            \n",
       "     CountryCzech.Republic CountryDenmark ⋯ CountryRSA CountrySaudi.Arabia\n",
       "1    0                     0              ⋯ 0          0                  \n",
       "1259 0                     0              ⋯ 0          0                  \n",
       "1660 0                     0              ⋯ 0          0                  \n",
       "1677 0                     0              ⋯ 0          0                  \n",
       "3746 0                     0              ⋯ 0          0                  \n",
       "3778 0                     0              ⋯ 0          0                  \n",
       "     CountrySingapore CountrySpain CountrySweden CountrySwitzerland\n",
       "1    0                0            0             0                 \n",
       "1259 0                0            0             0                 \n",
       "1660 0                0            0             0                 \n",
       "1677 0                0            0             0                 \n",
       "3746 0                0            0             0                 \n",
       "3778 0                0            0             0                 \n",
       "     CountryUnited.Arab.Emirates CountryUnited.Kingdom CountryUnspecified\n",
       "1    0                           0                     0                 \n",
       "1259 0                           0                     0                 \n",
       "1660 0                           0                     0                 \n",
       "1677 0                           0                     0                 \n",
       "3746 0                           0                     0                 \n",
       "3778 0                           0                     0                 \n",
       "     CountryUSA\n",
       "1    0         \n",
       "1259 0         \n",
       "1660 0         \n",
       "1677 0         \n",
       "3746 0         \n",
       "3778 0         "
      ]
     },
     "metadata": {},
     "output_type": "display_data"
    }
   ],
   "source": [
    "head(unique(df_design_two))"
   ]
  },
  {
   "cell_type": "code",
   "execution_count": 223,
   "metadata": {},
   "outputs": [
    {
     "data": {
      "text/html": [
       "<style>\n",
       ".dl-inline {width: auto; margin:0; padding: 0}\n",
       ".dl-inline>dt, .dl-inline>dd {float: none; width: auto; display: inline-block}\n",
       ".dl-inline>dt::after {content: \":\\0020\"; padding-right: .5ex}\n",
       ".dl-inline>dt:not(:first-of-type) {padding-left: .5ex}\n",
       "</style><dl class=dl-inline><dt>CountryAustralia</dt><dd>1111</dd><dt>CountryAustria</dt><dd>398</dd><dt>CountryBahrain</dt><dd>17</dd><dt>CountryBelgium</dt><dd>2020</dd><dt>CountryBrazil</dt><dd>32</dd><dt>CountryCanada</dt><dd>151</dd><dt>CountryChannel.Islands</dt><dd>746</dd><dt>CountryCyprus</dt><dd>599</dd><dt>CountryCzech.Republic</dt><dd>23</dd><dt>CountryDenmark</dt><dd>377</dd><dt>CountryEIRE</dt><dd>6842</dd><dt>CountryEuropean.Community</dt><dd>60</dd><dt>CountryFinland</dt><dd>675</dd><dt>CountryFrance</dt><dd>8186</dd><dt>CountryGermany</dt><dd>8881</dd><dt>CountryGreece</dt><dd>145</dd><dt>CountryIceland</dt><dd>182</dd><dt>CountryIsrael</dt><dd>245</dd><dt>CountryItaly</dt><dd>737</dd><dt>CountryJapan</dt><dd>319</dd><dt>CountryLebanon</dt><dd>45</dd><dt>CountryLithuania</dt><dd>35</dd><dt>CountryMalta</dt><dd>110</dd><dt>CountryNetherlands</dt><dd>2348</dd><dt>CountryNorway</dt><dd>1053</dd><dt>CountryPoland</dt><dd>327</dd><dt>CountryPortugal</dt><dd>1441</dd><dt>CountryRSA</dt><dd>58</dd><dt>CountrySaudi.Arabia</dt><dd>9</dd><dt>CountrySingapore</dt><dd>215</dd><dt>CountrySpain</dt><dd>2450</dd><dt>CountrySweden</dt><dd>438</dd><dt>CountrySwitzerland</dt><dd>1829</dd><dt>CountryUnited.Arab.Emirates</dt><dd>68</dd><dt>CountryUnited.Kingdom</dt><dd>344775</dd><dt>CountryUnspecified</dt><dd>241</dd><dt>CountryUSA</dt><dd>67</dd></dl>\n"
      ],
      "text/latex": [
       "\\begin{description*}\n",
       "\\item[CountryAustralia] 1111\n",
       "\\item[CountryAustria] 398\n",
       "\\item[CountryBahrain] 17\n",
       "\\item[CountryBelgium] 2020\n",
       "\\item[CountryBrazil] 32\n",
       "\\item[CountryCanada] 151\n",
       "\\item[CountryChannel.Islands] 746\n",
       "\\item[CountryCyprus] 599\n",
       "\\item[CountryCzech.Republic] 23\n",
       "\\item[CountryDenmark] 377\n",
       "\\item[CountryEIRE] 6842\n",
       "\\item[CountryEuropean.Community] 60\n",
       "\\item[CountryFinland] 675\n",
       "\\item[CountryFrance] 8186\n",
       "\\item[CountryGermany] 8881\n",
       "\\item[CountryGreece] 145\n",
       "\\item[CountryIceland] 182\n",
       "\\item[CountryIsrael] 245\n",
       "\\item[CountryItaly] 737\n",
       "\\item[CountryJapan] 319\n",
       "\\item[CountryLebanon] 45\n",
       "\\item[CountryLithuania] 35\n",
       "\\item[CountryMalta] 110\n",
       "\\item[CountryNetherlands] 2348\n",
       "\\item[CountryNorway] 1053\n",
       "\\item[CountryPoland] 327\n",
       "\\item[CountryPortugal] 1441\n",
       "\\item[CountryRSA] 58\n",
       "\\item[CountrySaudi.Arabia] 9\n",
       "\\item[CountrySingapore] 215\n",
       "\\item[CountrySpain] 2450\n",
       "\\item[CountrySweden] 438\n",
       "\\item[CountrySwitzerland] 1829\n",
       "\\item[CountryUnited.Arab.Emirates] 68\n",
       "\\item[CountryUnited.Kingdom] 344775\n",
       "\\item[CountryUnspecified] 241\n",
       "\\item[CountryUSA] 67\n",
       "\\end{description*}\n"
      ],
      "text/markdown": [
       "CountryAustralia\n",
       ":   1111CountryAustria\n",
       ":   398CountryBahrain\n",
       ":   17CountryBelgium\n",
       ":   2020CountryBrazil\n",
       ":   32CountryCanada\n",
       ":   151CountryChannel.Islands\n",
       ":   746CountryCyprus\n",
       ":   599CountryCzech.Republic\n",
       ":   23CountryDenmark\n",
       ":   377CountryEIRE\n",
       ":   6842CountryEuropean.Community\n",
       ":   60CountryFinland\n",
       ":   675CountryFrance\n",
       ":   8186CountryGermany\n",
       ":   8881CountryGreece\n",
       ":   145CountryIceland\n",
       ":   182CountryIsrael\n",
       ":   245CountryItaly\n",
       ":   737CountryJapan\n",
       ":   319CountryLebanon\n",
       ":   45CountryLithuania\n",
       ":   35CountryMalta\n",
       ":   110CountryNetherlands\n",
       ":   2348CountryNorway\n",
       ":   1053CountryPoland\n",
       ":   327CountryPortugal\n",
       ":   1441CountryRSA\n",
       ":   58CountrySaudi.Arabia\n",
       ":   9CountrySingapore\n",
       ":   215CountrySpain\n",
       ":   2450CountrySweden\n",
       ":   438CountrySwitzerland\n",
       ":   1829CountryUnited.Arab.Emirates\n",
       ":   68CountryUnited.Kingdom\n",
       ":   344775CountryUnspecified\n",
       ":   241CountryUSA\n",
       ":   67\n",
       "\n"
      ],
      "text/plain": [
       "           CountryAustralia              CountryAustria \n",
       "                       1111                         398 \n",
       "             CountryBahrain              CountryBelgium \n",
       "                         17                        2020 \n",
       "              CountryBrazil               CountryCanada \n",
       "                         32                         151 \n",
       "     CountryChannel.Islands               CountryCyprus \n",
       "                        746                         599 \n",
       "      CountryCzech.Republic              CountryDenmark \n",
       "                         23                         377 \n",
       "                CountryEIRE   CountryEuropean.Community \n",
       "                       6842                          60 \n",
       "             CountryFinland               CountryFrance \n",
       "                        675                        8186 \n",
       "             CountryGermany               CountryGreece \n",
       "                       8881                         145 \n",
       "             CountryIceland               CountryIsrael \n",
       "                        182                         245 \n",
       "               CountryItaly                CountryJapan \n",
       "                        737                         319 \n",
       "             CountryLebanon            CountryLithuania \n",
       "                         45                          35 \n",
       "               CountryMalta          CountryNetherlands \n",
       "                        110                        2348 \n",
       "              CountryNorway               CountryPoland \n",
       "                       1053                         327 \n",
       "            CountryPortugal                  CountryRSA \n",
       "                       1441                          58 \n",
       "        CountrySaudi.Arabia            CountrySingapore \n",
       "                          9                         215 \n",
       "               CountrySpain               CountrySweden \n",
       "                       2450                         438 \n",
       "         CountrySwitzerland CountryUnited.Arab.Emirates \n",
       "                       1829                          68 \n",
       "      CountryUnited.Kingdom          CountryUnspecified \n",
       "                     344775                         241 \n",
       "                 CountryUSA \n",
       "                         67 "
      ]
     },
     "metadata": {},
     "output_type": "display_data"
    }
   ],
   "source": [
    "\n",
    "colSums(df_design_two)"
   ]
  },
  {
   "cell_type": "markdown",
   "metadata": {},
   "source": [
    "# Return New DF of `only Countries for One-Hot Encoding`:\n",
    "\n",
    "+ This is using `Dummy Library` in R"
   ]
  },
  {
   "cell_type": "code",
   "execution_count": 72,
   "metadata": {},
   "outputs": [
    {
     "name": "stderr",
     "output_type": "stream",
     "text": [
      "Warning message in model.matrix.default(~x - 1, model.frame(~x - 1), contrasts = FALSE):\n",
      "“non-list contrasts argument ignored”\n"
     ]
    }
   ],
   "source": [
    "dummy_lib_encode<-cbind(Rest_ofData$Country, dummy(Rest_ofData$Country, sep = \"_\"))"
   ]
  },
  {
   "cell_type": "code",
   "execution_count": 74,
   "metadata": {},
   "outputs": [
    {
     "data": {
      "text/html": [
       "<table>\n",
       "<caption>A matrix: 6 × 38 of type chr</caption>\n",
       "<thead>\n",
       "\t<tr><th scope=col></th><th scope=col>NA_Australia</th><th scope=col>NA_Austria</th><th scope=col>NA_Bahrain</th><th scope=col>NA_Belgium</th><th scope=col>NA_Brazil</th><th scope=col>NA_Canada</th><th scope=col>NA_Channel Islands</th><th scope=col>NA_Cyprus</th><th scope=col>NA_Czech Republic</th><th scope=col>⋯</th><th scope=col>NA_RSA</th><th scope=col>NA_Saudi Arabia</th><th scope=col>NA_Singapore</th><th scope=col>NA_Spain</th><th scope=col>NA_Sweden</th><th scope=col>NA_Switzerland</th><th scope=col>NA_United Arab Emirates</th><th scope=col>NA_United Kingdom</th><th scope=col>NA_Unspecified</th><th scope=col>NA_USA</th></tr>\n",
       "</thead>\n",
       "<tbody>\n",
       "\t<tr><td>Australia</td><td>1</td><td>0</td><td>0</td><td>0</td><td>0</td><td>0</td><td>0</td><td>0</td><td>0</td><td>⋯</td><td>0</td><td>0</td><td>0</td><td>0</td><td>0</td><td>0</td><td>0</td><td>0</td><td>0</td><td>0</td></tr>\n",
       "\t<tr><td>Austria  </td><td>0</td><td>1</td><td>0</td><td>0</td><td>0</td><td>0</td><td>0</td><td>0</td><td>0</td><td>⋯</td><td>0</td><td>0</td><td>0</td><td>0</td><td>0</td><td>0</td><td>0</td><td>0</td><td>0</td><td>0</td></tr>\n",
       "\t<tr><td>Bahrain  </td><td>0</td><td>0</td><td>1</td><td>0</td><td>0</td><td>0</td><td>0</td><td>0</td><td>0</td><td>⋯</td><td>0</td><td>0</td><td>0</td><td>0</td><td>0</td><td>0</td><td>0</td><td>0</td><td>0</td><td>0</td></tr>\n",
       "\t<tr><td>Belgium  </td><td>0</td><td>0</td><td>0</td><td>1</td><td>0</td><td>0</td><td>0</td><td>0</td><td>0</td><td>⋯</td><td>0</td><td>0</td><td>0</td><td>0</td><td>0</td><td>0</td><td>0</td><td>0</td><td>0</td><td>0</td></tr>\n",
       "\t<tr><td>Brazil   </td><td>0</td><td>0</td><td>0</td><td>0</td><td>1</td><td>0</td><td>0</td><td>0</td><td>0</td><td>⋯</td><td>0</td><td>0</td><td>0</td><td>0</td><td>0</td><td>0</td><td>0</td><td>0</td><td>0</td><td>0</td></tr>\n",
       "\t<tr><td>Canada   </td><td>0</td><td>0</td><td>0</td><td>0</td><td>0</td><td>1</td><td>0</td><td>0</td><td>0</td><td>⋯</td><td>0</td><td>0</td><td>0</td><td>0</td><td>0</td><td>0</td><td>0</td><td>0</td><td>0</td><td>0</td></tr>\n",
       "</tbody>\n",
       "</table>\n"
      ],
      "text/latex": [
       "A matrix: 6 × 38 of type chr\n",
       "\\begin{tabular}{lllllllllllllllllllll}\n",
       "  & NA\\_Australia & NA\\_Austria & NA\\_Bahrain & NA\\_Belgium & NA\\_Brazil & NA\\_Canada & NA\\_Channel Islands & NA\\_Cyprus & NA\\_Czech Republic & ⋯ & NA\\_RSA & NA\\_Saudi Arabia & NA\\_Singapore & NA\\_Spain & NA\\_Sweden & NA\\_Switzerland & NA\\_United Arab Emirates & NA\\_United Kingdom & NA\\_Unspecified & NA\\_USA\\\\\n",
       "\\hline\n",
       "\t Australia & 1 & 0 & 0 & 0 & 0 & 0 & 0 & 0 & 0 & ⋯ & 0 & 0 & 0 & 0 & 0 & 0 & 0 & 0 & 0 & 0\\\\\n",
       "\t Austria   & 0 & 1 & 0 & 0 & 0 & 0 & 0 & 0 & 0 & ⋯ & 0 & 0 & 0 & 0 & 0 & 0 & 0 & 0 & 0 & 0\\\\\n",
       "\t Bahrain   & 0 & 0 & 1 & 0 & 0 & 0 & 0 & 0 & 0 & ⋯ & 0 & 0 & 0 & 0 & 0 & 0 & 0 & 0 & 0 & 0\\\\\n",
       "\t Belgium   & 0 & 0 & 0 & 1 & 0 & 0 & 0 & 0 & 0 & ⋯ & 0 & 0 & 0 & 0 & 0 & 0 & 0 & 0 & 0 & 0\\\\\n",
       "\t Brazil    & 0 & 0 & 0 & 0 & 1 & 0 & 0 & 0 & 0 & ⋯ & 0 & 0 & 0 & 0 & 0 & 0 & 0 & 0 & 0 & 0\\\\\n",
       "\t Canada    & 0 & 0 & 0 & 0 & 0 & 1 & 0 & 0 & 0 & ⋯ & 0 & 0 & 0 & 0 & 0 & 0 & 0 & 0 & 0 & 0\\\\\n",
       "\\end{tabular}\n"
      ],
      "text/markdown": [
       "\n",
       "A matrix: 6 × 38 of type chr\n",
       "\n",
       "| <!----> | NA_Australia | NA_Austria | NA_Bahrain | NA_Belgium | NA_Brazil | NA_Canada | NA_Channel Islands | NA_Cyprus | NA_Czech Republic | ⋯ | NA_RSA | NA_Saudi Arabia | NA_Singapore | NA_Spain | NA_Sweden | NA_Switzerland | NA_United Arab Emirates | NA_United Kingdom | NA_Unspecified | NA_USA |\n",
       "|---|---|---|---|---|---|---|---|---|---|---|---|---|---|---|---|---|---|---|---|---|\n",
       "| Australia | 1 | 0 | 0 | 0 | 0 | 0 | 0 | 0 | 0 | ⋯ | 0 | 0 | 0 | 0 | 0 | 0 | 0 | 0 | 0 | 0 |\n",
       "| Austria   | 0 | 1 | 0 | 0 | 0 | 0 | 0 | 0 | 0 | ⋯ | 0 | 0 | 0 | 0 | 0 | 0 | 0 | 0 | 0 | 0 |\n",
       "| Bahrain   | 0 | 0 | 1 | 0 | 0 | 0 | 0 | 0 | 0 | ⋯ | 0 | 0 | 0 | 0 | 0 | 0 | 0 | 0 | 0 | 0 |\n",
       "| Belgium   | 0 | 0 | 0 | 1 | 0 | 0 | 0 | 0 | 0 | ⋯ | 0 | 0 | 0 | 0 | 0 | 0 | 0 | 0 | 0 | 0 |\n",
       "| Brazil    | 0 | 0 | 0 | 0 | 1 | 0 | 0 | 0 | 0 | ⋯ | 0 | 0 | 0 | 0 | 0 | 0 | 0 | 0 | 0 | 0 |\n",
       "| Canada    | 0 | 0 | 0 | 0 | 0 | 1 | 0 | 0 | 0 | ⋯ | 0 | 0 | 0 | 0 | 0 | 0 | 0 | 0 | 0 | 0 |\n",
       "\n"
      ],
      "text/plain": [
       "               NA_Australia NA_Austria NA_Bahrain NA_Belgium NA_Brazil\n",
       "[1,] Australia 1            0          0          0          0        \n",
       "[2,] Austria   0            1          0          0          0        \n",
       "[3,] Bahrain   0            0          1          0          0        \n",
       "[4,] Belgium   0            0          0          1          0        \n",
       "[5,] Brazil    0            0          0          0          1        \n",
       "[6,] Canada    0            0          0          0          0        \n",
       "     NA_Canada NA_Channel Islands NA_Cyprus NA_Czech Republic ⋯ NA_RSA\n",
       "[1,] 0         0                  0         0                 ⋯ 0     \n",
       "[2,] 0         0                  0         0                 ⋯ 0     \n",
       "[3,] 0         0                  0         0                 ⋯ 0     \n",
       "[4,] 0         0                  0         0                 ⋯ 0     \n",
       "[5,] 0         0                  0         0                 ⋯ 0     \n",
       "[6,] 1         0                  0         0                 ⋯ 0     \n",
       "     NA_Saudi Arabia NA_Singapore NA_Spain NA_Sweden NA_Switzerland\n",
       "[1,] 0               0            0        0         0             \n",
       "[2,] 0               0            0        0         0             \n",
       "[3,] 0               0            0        0         0             \n",
       "[4,] 0               0            0        0         0             \n",
       "[5,] 0               0            0        0         0             \n",
       "[6,] 0               0            0        0         0             \n",
       "     NA_United Arab Emirates NA_United Kingdom NA_Unspecified NA_USA\n",
       "[1,] 0                       0                 0              0     \n",
       "[2,] 0                       0                 0              0     \n",
       "[3,] 0                       0                 0              0     \n",
       "[4,] 0                       0                 0              0     \n",
       "[5,] 0                       0                 0              0     \n",
       "[6,] 0                       0                 0              0     "
      ]
     },
     "metadata": {},
     "output_type": "display_data"
    }
   ],
   "source": [
    "head(unique(dummy_lib_encode))\n"
   ]
  },
  {
   "cell_type": "markdown",
   "metadata": {},
   "source": [
    "# `Add New Columns` of One-Hot to DF\n",
    "\n",
    "+ `Pay ATTENTION: THE FIRST ARGUMENT IS NOT SUBSET`, therefore you are adding to the whole DF"
   ]
  },
  {
   "cell_type": "code",
   "execution_count": 224,
   "metadata": {},
   "outputs": [
    {
     "name": "stderr",
     "output_type": "stream",
     "text": [
      "Warning message in model.matrix.default(~x - 1, model.frame(~x - 1), contrasts = FALSE):\n",
      "“non-list contrasts argument ignored”\n"
     ]
    }
   ],
   "source": [
    "dummy_all_data<-cbind(Rest_ofData, dummy(Rest_ofData$Country, sep = \"_\"))"
   ]
  },
  {
   "cell_type": "code",
   "execution_count": 225,
   "metadata": {},
   "outputs": [
    {
     "data": {
      "text/html": [
       "<table>\n",
       "<caption>A data.frame: 6 × 47</caption>\n",
       "<thead>\n",
       "\t<tr><th></th><th scope=col>InvoiceNo</th><th scope=col>StockCode</th><th scope=col>Description</th><th scope=col>Quantity</th><th scope=col>InvoiceDate</th><th scope=col>UnitPrice</th><th scope=col>CustomerID</th><th scope=col>Country</th><th scope=col>CanceledQty</th><th scope=col>Matches</th><th scope=col>⋯</th><th scope=col>NA_RSA</th><th scope=col>NA_Saudi Arabia</th><th scope=col>NA_Singapore</th><th scope=col>NA_Spain</th><th scope=col>NA_Sweden</th><th scope=col>NA_Switzerland</th><th scope=col>NA_United Arab Emirates</th><th scope=col>NA_United Kingdom</th><th scope=col>NA_Unspecified</th><th scope=col>NA_USA</th></tr>\n",
       "\t<tr><th></th><th scope=col>&lt;chr&gt;</th><th scope=col>&lt;chr&gt;</th><th scope=col>&lt;chr&gt;</th><th scope=col>&lt;int&gt;</th><th scope=col>&lt;chr&gt;</th><th scope=col>&lt;dbl&gt;</th><th scope=col>&lt;int&gt;</th><th scope=col>&lt;chr&gt;</th><th scope=col>&lt;dbl&gt;</th><th scope=col>&lt;lgl&gt;</th><th scope=col>⋯</th><th scope=col>&lt;int&gt;</th><th scope=col>&lt;int&gt;</th><th scope=col>&lt;int&gt;</th><th scope=col>&lt;int&gt;</th><th scope=col>&lt;int&gt;</th><th scope=col>&lt;int&gt;</th><th scope=col>&lt;int&gt;</th><th scope=col>&lt;int&gt;</th><th scope=col>&lt;int&gt;</th><th scope=col>&lt;int&gt;</th></tr>\n",
       "</thead>\n",
       "<tbody>\n",
       "\t<tr><th scope=row>1</th><td>563614</td><td>23345</td><td> DOLLY GIRL BEAKER           </td><td>200</td><td>8/18/2011 8:51 </td><td>1.08</td><td>12415</td><td>Australia</td><td>1</td><td>FALSE</td><td>⋯</td><td>0</td><td>0</td><td>0</td><td>0</td><td>0</td><td>0</td><td>0</td><td>0</td><td>0</td><td>0</td></tr>\n",
       "\t<tr><th scope=row>2</th><td>568708</td><td>23391</td><td> I LOVE LONDON MINI BACKPACK </td><td>  4</td><td>9/28/2011 15:41</td><td>4.15</td><td>12393</td><td>Australia</td><td>1</td><td>FALSE</td><td>⋯</td><td>0</td><td>0</td><td>0</td><td>0</td><td>0</td><td>0</td><td>0</td><td>0</td><td>0</td><td>0</td></tr>\n",
       "\t<tr><th scope=row>3</th><td>556917</td><td>22418</td><td>10 COLOUR SPACEBOY PEN       </td><td> 48</td><td>6/15/2011 13:37</td><td>0.85</td><td>12415</td><td>Australia</td><td>1</td><td>FALSE</td><td>⋯</td><td>0</td><td>0</td><td>0</td><td>0</td><td>0</td><td>0</td><td>0</td><td>0</td><td>0</td><td>0</td></tr>\n",
       "\t<tr><th scope=row>4</th><td>543989</td><td>20973</td><td>12 PENCIL SMALL TUBE WOODLAND</td><td>384</td><td>2/15/2011 9:52 </td><td>0.55</td><td>12415</td><td>Australia</td><td>1</td><td>FALSE</td><td>⋯</td><td>0</td><td>0</td><td>0</td><td>0</td><td>0</td><td>0</td><td>0</td><td>0</td><td>0</td><td>0</td></tr>\n",
       "\t<tr><th scope=row>5</th><td>547659</td><td>20984</td><td>12 PENCILS TALL TUBE POSY    </td><td> 12</td><td>3/24/2011 13:05</td><td>0.85</td><td>12434</td><td>Australia</td><td>1</td><td>FALSE</td><td>⋯</td><td>0</td><td>0</td><td>0</td><td>0</td><td>0</td><td>0</td><td>0</td><td>0</td><td>0</td><td>0</td></tr>\n",
       "\t<tr><th scope=row>6</th><td>556917</td><td>20984</td><td>12 PENCILS TALL TUBE POSY    </td><td>240</td><td>6/15/2011 13:37</td><td>0.29</td><td>12415</td><td>Australia</td><td>1</td><td>FALSE</td><td>⋯</td><td>0</td><td>0</td><td>0</td><td>0</td><td>0</td><td>0</td><td>0</td><td>0</td><td>0</td><td>0</td></tr>\n",
       "</tbody>\n",
       "</table>\n"
      ],
      "text/latex": [
       "A data.frame: 6 × 47\n",
       "\\begin{tabular}{r|lllllllllllllllllllll}\n",
       "  & InvoiceNo & StockCode & Description & Quantity & InvoiceDate & UnitPrice & CustomerID & Country & CanceledQty & Matches & ⋯ & NA\\_RSA & NA\\_Saudi Arabia & NA\\_Singapore & NA\\_Spain & NA\\_Sweden & NA\\_Switzerland & NA\\_United Arab Emirates & NA\\_United Kingdom & NA\\_Unspecified & NA\\_USA\\\\\n",
       "  & <chr> & <chr> & <chr> & <int> & <chr> & <dbl> & <int> & <chr> & <dbl> & <lgl> & ⋯ & <int> & <int> & <int> & <int> & <int> & <int> & <int> & <int> & <int> & <int>\\\\\n",
       "\\hline\n",
       "\t1 & 563614 & 23345 &  DOLLY GIRL BEAKER            & 200 & 8/18/2011 8:51  & 1.08 & 12415 & Australia & 1 & FALSE & ⋯ & 0 & 0 & 0 & 0 & 0 & 0 & 0 & 0 & 0 & 0\\\\\n",
       "\t2 & 568708 & 23391 &  I LOVE LONDON MINI BACKPACK  &   4 & 9/28/2011 15:41 & 4.15 & 12393 & Australia & 1 & FALSE & ⋯ & 0 & 0 & 0 & 0 & 0 & 0 & 0 & 0 & 0 & 0\\\\\n",
       "\t3 & 556917 & 22418 & 10 COLOUR SPACEBOY PEN        &  48 & 6/15/2011 13:37 & 0.85 & 12415 & Australia & 1 & FALSE & ⋯ & 0 & 0 & 0 & 0 & 0 & 0 & 0 & 0 & 0 & 0\\\\\n",
       "\t4 & 543989 & 20973 & 12 PENCIL SMALL TUBE WOODLAND & 384 & 2/15/2011 9:52  & 0.55 & 12415 & Australia & 1 & FALSE & ⋯ & 0 & 0 & 0 & 0 & 0 & 0 & 0 & 0 & 0 & 0\\\\\n",
       "\t5 & 547659 & 20984 & 12 PENCILS TALL TUBE POSY     &  12 & 3/24/2011 13:05 & 0.85 & 12434 & Australia & 1 & FALSE & ⋯ & 0 & 0 & 0 & 0 & 0 & 0 & 0 & 0 & 0 & 0\\\\\n",
       "\t6 & 556917 & 20984 & 12 PENCILS TALL TUBE POSY     & 240 & 6/15/2011 13:37 & 0.29 & 12415 & Australia & 1 & FALSE & ⋯ & 0 & 0 & 0 & 0 & 0 & 0 & 0 & 0 & 0 & 0\\\\\n",
       "\\end{tabular}\n"
      ],
      "text/markdown": [
       "\n",
       "A data.frame: 6 × 47\n",
       "\n",
       "| <!--/--> | InvoiceNo &lt;chr&gt; | StockCode &lt;chr&gt; | Description &lt;chr&gt; | Quantity &lt;int&gt; | InvoiceDate &lt;chr&gt; | UnitPrice &lt;dbl&gt; | CustomerID &lt;int&gt; | Country &lt;chr&gt; | CanceledQty &lt;dbl&gt; | Matches &lt;lgl&gt; | ⋯ ⋯ | NA_RSA &lt;int&gt; | NA_Saudi Arabia &lt;int&gt; | NA_Singapore &lt;int&gt; | NA_Spain &lt;int&gt; | NA_Sweden &lt;int&gt; | NA_Switzerland &lt;int&gt; | NA_United Arab Emirates &lt;int&gt; | NA_United Kingdom &lt;int&gt; | NA_Unspecified &lt;int&gt; | NA_USA &lt;int&gt; |\n",
       "|---|---|---|---|---|---|---|---|---|---|---|---|---|---|---|---|---|---|---|---|---|---|\n",
       "| 1 | 563614 | 23345 |  DOLLY GIRL BEAKER            | 200 | 8/18/2011 8:51  | 1.08 | 12415 | Australia | 1 | FALSE | ⋯ | 0 | 0 | 0 | 0 | 0 | 0 | 0 | 0 | 0 | 0 |\n",
       "| 2 | 568708 | 23391 |  I LOVE LONDON MINI BACKPACK  |   4 | 9/28/2011 15:41 | 4.15 | 12393 | Australia | 1 | FALSE | ⋯ | 0 | 0 | 0 | 0 | 0 | 0 | 0 | 0 | 0 | 0 |\n",
       "| 3 | 556917 | 22418 | 10 COLOUR SPACEBOY PEN        |  48 | 6/15/2011 13:37 | 0.85 | 12415 | Australia | 1 | FALSE | ⋯ | 0 | 0 | 0 | 0 | 0 | 0 | 0 | 0 | 0 | 0 |\n",
       "| 4 | 543989 | 20973 | 12 PENCIL SMALL TUBE WOODLAND | 384 | 2/15/2011 9:52  | 0.55 | 12415 | Australia | 1 | FALSE | ⋯ | 0 | 0 | 0 | 0 | 0 | 0 | 0 | 0 | 0 | 0 |\n",
       "| 5 | 547659 | 20984 | 12 PENCILS TALL TUBE POSY     |  12 | 3/24/2011 13:05 | 0.85 | 12434 | Australia | 1 | FALSE | ⋯ | 0 | 0 | 0 | 0 | 0 | 0 | 0 | 0 | 0 | 0 |\n",
       "| 6 | 556917 | 20984 | 12 PENCILS TALL TUBE POSY     | 240 | 6/15/2011 13:37 | 0.29 | 12415 | Australia | 1 | FALSE | ⋯ | 0 | 0 | 0 | 0 | 0 | 0 | 0 | 0 | 0 | 0 |\n",
       "\n"
      ],
      "text/plain": [
       "  InvoiceNo StockCode Description                   Quantity InvoiceDate    \n",
       "1 563614    23345      DOLLY GIRL BEAKER            200      8/18/2011 8:51 \n",
       "2 568708    23391      I LOVE LONDON MINI BACKPACK    4      9/28/2011 15:41\n",
       "3 556917    22418     10 COLOUR SPACEBOY PEN         48      6/15/2011 13:37\n",
       "4 543989    20973     12 PENCIL SMALL TUBE WOODLAND 384      2/15/2011 9:52 \n",
       "5 547659    20984     12 PENCILS TALL TUBE POSY      12      3/24/2011 13:05\n",
       "6 556917    20984     12 PENCILS TALL TUBE POSY     240      6/15/2011 13:37\n",
       "  UnitPrice CustomerID Country   CanceledQty Matches ⋯ NA_RSA NA_Saudi Arabia\n",
       "1 1.08      12415      Australia 1           FALSE   ⋯ 0      0              \n",
       "2 4.15      12393      Australia 1           FALSE   ⋯ 0      0              \n",
       "3 0.85      12415      Australia 1           FALSE   ⋯ 0      0              \n",
       "4 0.55      12415      Australia 1           FALSE   ⋯ 0      0              \n",
       "5 0.85      12434      Australia 1           FALSE   ⋯ 0      0              \n",
       "6 0.29      12415      Australia 1           FALSE   ⋯ 0      0              \n",
       "  NA_Singapore NA_Spain NA_Sweden NA_Switzerland NA_United Arab Emirates\n",
       "1 0            0        0         0              0                      \n",
       "2 0            0        0         0              0                      \n",
       "3 0            0        0         0              0                      \n",
       "4 0            0        0         0              0                      \n",
       "5 0            0        0         0              0                      \n",
       "6 0            0        0         0              0                      \n",
       "  NA_United Kingdom NA_Unspecified NA_USA\n",
       "1 0                 0              0     \n",
       "2 0                 0              0     \n",
       "3 0                 0              0     \n",
       "4 0                 0              0     \n",
       "5 0                 0              0     \n",
       "6 0                 0              0     "
      ]
     },
     "metadata": {},
     "output_type": "display_data"
    }
   ],
   "source": [
    "head(dummy_all_data)"
   ]
  },
  {
   "cell_type": "markdown",
   "metadata": {},
   "source": [
    "# One Hot Encode with `(CatEncoders)` library"
   ]
  },
  {
   "cell_type": "code",
   "execution_count": 149,
   "metadata": {},
   "outputs": [],
   "source": [
    "onec<-OneHotEncoder.fit(as.matrix(Rest_ofData$Country))"
   ]
  },
  {
   "cell_type": "code",
   "execution_count": 245,
   "metadata": {},
   "outputs": [
    {
     "data": {
      "text/html": [
       "<style>\n",
       ".list-inline {list-style: none; margin:0; padding: 0}\n",
       ".list-inline>li {display: inline-block}\n",
       ".list-inline>li:not(:last-child)::after {content: \"\\00b7\"; padding: 0 .5ex}\n",
       "</style>\n",
       "<ol class=list-inline><li>1</li><li>0</li><li>0</li><li>0</li><li>0</li><li>0</li><li>0</li><li>0</li><li>0</li><li>0</li><li>0</li><li>0</li><li>0</li><li>0</li><li>0</li><li>0</li><li>0</li><li>0</li><li>0</li><li>0</li><li>0</li><li>0</li><li>0</li><li>0</li><li>0</li><li>0</li><li>0</li><li>0</li><li>0</li><li>0</li><li>0</li><li>0</li><li>0</li><li>0</li><li>0</li><li>0</li><li>0</li></ol>\n"
      ],
      "text/latex": [
       "\\begin{enumerate*}\n",
       "\\item 1\n",
       "\\item 0\n",
       "\\item 0\n",
       "\\item 0\n",
       "\\item 0\n",
       "\\item 0\n",
       "\\item 0\n",
       "\\item 0\n",
       "\\item 0\n",
       "\\item 0\n",
       "\\item 0\n",
       "\\item 0\n",
       "\\item 0\n",
       "\\item 0\n",
       "\\item 0\n",
       "\\item 0\n",
       "\\item 0\n",
       "\\item 0\n",
       "\\item 0\n",
       "\\item 0\n",
       "\\item 0\n",
       "\\item 0\n",
       "\\item 0\n",
       "\\item 0\n",
       "\\item 0\n",
       "\\item 0\n",
       "\\item 0\n",
       "\\item 0\n",
       "\\item 0\n",
       "\\item 0\n",
       "\\item 0\n",
       "\\item 0\n",
       "\\item 0\n",
       "\\item 0\n",
       "\\item 0\n",
       "\\item 0\n",
       "\\item 0\n",
       "\\end{enumerate*}\n"
      ],
      "text/markdown": [
       "1. 1\n",
       "2. 0\n",
       "3. 0\n",
       "4. 0\n",
       "5. 0\n",
       "6. 0\n",
       "7. 0\n",
       "8. 0\n",
       "9. 0\n",
       "10. 0\n",
       "11. 0\n",
       "12. 0\n",
       "13. 0\n",
       "14. 0\n",
       "15. 0\n",
       "16. 0\n",
       "17. 0\n",
       "18. 0\n",
       "19. 0\n",
       "20. 0\n",
       "21. 0\n",
       "22. 0\n",
       "23. 0\n",
       "24. 0\n",
       "25. 0\n",
       "26. 0\n",
       "27. 0\n",
       "28. 0\n",
       "29. 0\n",
       "30. 0\n",
       "31. 0\n",
       "32. 0\n",
       "33. 0\n",
       "34. 0\n",
       "35. 0\n",
       "36. 0\n",
       "37. 0\n",
       "\n",
       "\n"
      ],
      "text/plain": [
       " [1] 1 0 0 0 0 0 0 0 0 0 0 0 0 0 0 0 0 0 0 0 0 0 0 0 0 0 0 0 0 0 0 0 0 0 0 0 0"
      ]
     },
     "metadata": {},
     "output_type": "display_data"
    }
   ],
   "source": [
    "\n",
    "catEnc_oneHot<-transform(onec,matrix(Rest_ofData$Country),sparse=FALSE)\n",
    "\n",
    "catEnc_oneHot[50,] # This is One Row in the data"
   ]
  },
  {
   "cell_type": "code",
   "execution_count": 163,
   "metadata": {},
   "outputs": [
    {
     "data": {
      "text/html": [
       "<style>\n",
       ".dl-inline {width: auto; margin:0; padding: 0}\n",
       ".dl-inline>dt, .dl-inline>dd {float: none; width: auto; display: inline-block}\n",
       ".dl-inline>dt::after {content: \":\\0020\"; padding-right: .5ex}\n",
       ".dl-inline>dt:not(:first-of-type) {padding-left: .5ex}\n",
       "</style><dl class=dl-inline><dt>X1</dt><dd>1111</dd><dt>X2</dt><dd>398</dd><dt>X3</dt><dd>17</dd><dt>X4</dt><dd>2020</dd><dt>X5</dt><dd>32</dd><dt>X6</dt><dd>151</dd><dt>X7</dt><dd>746</dd><dt>X8</dt><dd>599</dd><dt>X9</dt><dd>23</dd><dt>X10</dt><dd>377</dd><dt>X11</dt><dd>6842</dd><dt>X12</dt><dd>60</dd><dt>X13</dt><dd>675</dd><dt>X14</dt><dd>8186</dd><dt>X15</dt><dd>8881</dd><dt>X16</dt><dd>145</dd><dt>X17</dt><dd>182</dd><dt>X18</dt><dd>245</dd><dt>X19</dt><dd>737</dd><dt>X20</dt><dd>319</dd><dt>X21</dt><dd>45</dd><dt>X22</dt><dd>35</dd><dt>X23</dt><dd>110</dd><dt>X24</dt><dd>2348</dd><dt>X25</dt><dd>1053</dd><dt>X26</dt><dd>327</dd><dt>X27</dt><dd>1441</dd><dt>X28</dt><dd>58</dd><dt>X29</dt><dd>9</dd><dt>X30</dt><dd>215</dd><dt>X31</dt><dd>2450</dd><dt>X32</dt><dd>438</dd><dt>X33</dt><dd>1829</dd><dt>X34</dt><dd>67</dd><dt>X35</dt><dd>68</dd><dt>X36</dt><dd>344775</dd><dt>X37</dt><dd>241</dd></dl>\n"
      ],
      "text/latex": [
       "\\begin{description*}\n",
       "\\item[X1] 1111\n",
       "\\item[X2] 398\n",
       "\\item[X3] 17\n",
       "\\item[X4] 2020\n",
       "\\item[X5] 32\n",
       "\\item[X6] 151\n",
       "\\item[X7] 746\n",
       "\\item[X8] 599\n",
       "\\item[X9] 23\n",
       "\\item[X10] 377\n",
       "\\item[X11] 6842\n",
       "\\item[X12] 60\n",
       "\\item[X13] 675\n",
       "\\item[X14] 8186\n",
       "\\item[X15] 8881\n",
       "\\item[X16] 145\n",
       "\\item[X17] 182\n",
       "\\item[X18] 245\n",
       "\\item[X19] 737\n",
       "\\item[X20] 319\n",
       "\\item[X21] 45\n",
       "\\item[X22] 35\n",
       "\\item[X23] 110\n",
       "\\item[X24] 2348\n",
       "\\item[X25] 1053\n",
       "\\item[X26] 327\n",
       "\\item[X27] 1441\n",
       "\\item[X28] 58\n",
       "\\item[X29] 9\n",
       "\\item[X30] 215\n",
       "\\item[X31] 2450\n",
       "\\item[X32] 438\n",
       "\\item[X33] 1829\n",
       "\\item[X34] 67\n",
       "\\item[X35] 68\n",
       "\\item[X36] 344775\n",
       "\\item[X37] 241\n",
       "\\end{description*}\n"
      ],
      "text/markdown": [
       "X1\n",
       ":   1111X2\n",
       ":   398X3\n",
       ":   17X4\n",
       ":   2020X5\n",
       ":   32X6\n",
       ":   151X7\n",
       ":   746X8\n",
       ":   599X9\n",
       ":   23X10\n",
       ":   377X11\n",
       ":   6842X12\n",
       ":   60X13\n",
       ":   675X14\n",
       ":   8186X15\n",
       ":   8881X16\n",
       ":   145X17\n",
       ":   182X18\n",
       ":   245X19\n",
       ":   737X20\n",
       ":   319X21\n",
       ":   45X22\n",
       ":   35X23\n",
       ":   110X24\n",
       ":   2348X25\n",
       ":   1053X26\n",
       ":   327X27\n",
       ":   1441X28\n",
       ":   58X29\n",
       ":   9X30\n",
       ":   215X31\n",
       ":   2450X32\n",
       ":   438X33\n",
       ":   1829X34\n",
       ":   67X35\n",
       ":   68X36\n",
       ":   344775X37\n",
       ":   241\n",
       "\n"
      ],
      "text/plain": [
       "    X1     X2     X3     X4     X5     X6     X7     X8     X9    X10    X11 \n",
       "  1111    398     17   2020     32    151    746    599     23    377   6842 \n",
       "   X12    X13    X14    X15    X16    X17    X18    X19    X20    X21    X22 \n",
       "    60    675   8186   8881    145    182    245    737    319     45     35 \n",
       "   X23    X24    X25    X26    X27    X28    X29    X30    X31    X32    X33 \n",
       "   110   2348   1053    327   1441     58      9    215   2450    438   1829 \n",
       "   X34    X35    X36    X37 \n",
       "    67     68 344775    241 "
      ]
     },
     "metadata": {},
     "output_type": "display_data"
    }
   ],
   "source": [
    "qa<-data.frame(catEnc_oneHot)\n",
    "\n",
    "colSums(qa)"
   ]
  },
  {
   "cell_type": "markdown",
   "metadata": {},
   "source": [
    "`--------------------------------------------`\n",
    "\n",
    "# Side Note: \n",
    "\n",
    "+ Option: Check Out `library(correlationfunnel)` for Encoding\n",
    "\n",
    "+ also: `library(mltools)`\n",
    "\n",
    "\n",
    "+ Label Encoding Issues: If you use this, beaware that this can create issues for analysis because your algorithm may infer that there is some form of ranking by order which may not be the case.\n",
    "    + Look into what analysis you plan to do and where label encoding fails, because you would like to not build relationships when there are none. \n",
    "    + There are instances where you may need to use One Hot encoding after you create Label Encoding. Please look into some of the `Citations & Help` section to get an idea/\n",
    "    \n",
    "+ Issues with One Hot Encoding: try to consider that if you have large Categorical data, you will end up with an explotion of new columns causing your dimensionality and memory to be a concern. "
   ]
  },
  {
   "cell_type": "markdown",
   "metadata": {},
   "source": [
    "# Citations & Help:\n",
    "\n",
    "https://towardsdatascience.com/choosing-the-right-encoding-method-label-vs-onehot-encoder-a4434493149b\n",
    "\n",
    "https://jorisvandenbossche.github.io/blog/2017/11/20/categorical-encoder/\n",
    "\n",
    "https://pbpython.com/categorical-encoding.html\n",
    "\n",
    "http://www.renom.jp/notebooks/tutorial/preprocessing/onehot/notebook.html\n",
    "\n",
    "https://www.analyticsvidhya.com/blog/2020/03/one-hot-encoding-vs-label-encoding-using-scikit-learn/\n",
    "\n",
    "https://machinelearningmastery.com/why-one-hot-encode-data-in-machine-learning/\n",
    "\n",
    "http://uc-r.github.io/regression_preparation\n",
    "\n",
    "https://stackoverflow.com/questions/44747961/convert-categorical-column-to-multiple-binary-columns\n",
    "\n",
    "https://stackoverflow.com/questions/52934841/how-can-i-one-hot-encode-my-dataset-with-several-categorical-variables-in-r/53316634\n",
    "\n",
    "https://stackoverflow.com/questions/27535371/model-matrix-in-r\n",
    "\n",
    "https://business-science.github.io/correlationfunnel/reference/binarize.html\n",
    "\n",
    "https://rdrr.io/cran/CatEncoders/man/LabelEncoder.fit.html"
   ]
  }
 ],
 "metadata": {
  "kernelspec": {
   "display_name": "R",
   "language": "R",
   "name": "ir"
  },
  "language_info": {
   "codemirror_mode": "r",
   "file_extension": ".r",
   "mimetype": "text/x-r-source",
   "name": "R",
   "pygments_lexer": "r",
   "version": "4.0.0"
  }
 },
 "nbformat": 4,
 "nbformat_minor": 4
}
